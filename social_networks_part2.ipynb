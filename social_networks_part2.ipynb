{
  "nbformat": 4,
  "nbformat_minor": 0,
  "metadata": {
    "colab": {
      "name": "social_networks_part2.ipynb",
      "provenance": [],
      "toc_visible": true,
      "mount_file_id": "1SVY7sD0_grTrEmYVxkH4zsvVlumL5bS4",
      "authorship_tag": "ABX9TyObXTeGpHaT2YvxQJbetbZX",
      "include_colab_link": true
    },
    "kernelspec": {
      "name": "python3",
      "display_name": "Python 3"
    }
  },
  "cells": [
    {
      "cell_type": "markdown",
      "metadata": {
        "id": "view-in-github",
        "colab_type": "text"
      },
      "source": [
        "<a href=\"https://colab.research.google.com/github/contribcode/social_networks_theory_and_practice/blob/master/social_networks_part2.ipynb\" target=\"_parent\"><img src=\"https://colab.research.google.com/assets/colab-badge.svg\" alt=\"Open In Colab\"/></a>"
      ]
    },
    {
      "cell_type": "markdown",
      "metadata": {
        "id": "qLV-Wna4yhQA",
        "colab_type": "text"
      },
      "source": [
        "# imports"
      ]
    },
    {
      "cell_type": "code",
      "metadata": {
        "id": "z6UvJ6kiyLuO",
        "colab_type": "code",
        "colab": {}
      },
      "source": [
        "from itertools import combinations\n",
        "\n",
        "import numpy as np\n",
        "float_formatter = lambda x: \"%.3f\" % x\n",
        "np.set_printoptions(formatter={'float_kind':float_formatter})\n",
        "\n",
        "import pandas as pd\n",
        "\n",
        "import networkx as nx"
      ],
      "execution_count": 0,
      "outputs": []
    },
    {
      "cell_type": "markdown",
      "metadata": {
        "id": "cO2dqJV95GoY",
        "colab_type": "text"
      },
      "source": [
        "# graph"
      ]
    },
    {
      "cell_type": "code",
      "metadata": {
        "id": "mgd82L21yk72",
        "colab_type": "code",
        "colab": {}
      },
      "source": [
        "graph = pd.read_csv('/content/drive/My Drive/Social Networks/trust.txt',\n",
        "                    names=['user_1', 'user_2'],\n",
        "                    delim_whitespace=True)\n",
        "\n",
        "graph = graph.astype({'user_1': 'int32', 'user_2': 'int32'})"
      ],
      "execution_count": 0,
      "outputs": []
    },
    {
      "cell_type": "code",
      "metadata": {
        "id": "lLWBN48v228O",
        "colab_type": "code",
        "outputId": "23dbb5c0-6f0a-4a6f-9485-a1ed82648d02",
        "colab": {
          "base_uri": "https://localhost:8080/",
          "height": 204
        }
      },
      "source": [
        "graph.head()"
      ],
      "execution_count": 3,
      "outputs": [
        {
          "output_type": "execute_result",
          "data": {
            "text/html": [
              "<div>\n",
              "<style scoped>\n",
              "    .dataframe tbody tr th:only-of-type {\n",
              "        vertical-align: middle;\n",
              "    }\n",
              "\n",
              "    .dataframe tbody tr th {\n",
              "        vertical-align: top;\n",
              "    }\n",
              "\n",
              "    .dataframe thead th {\n",
              "        text-align: right;\n",
              "    }\n",
              "</style>\n",
              "<table border=\"1\" class=\"dataframe\">\n",
              "  <thead>\n",
              "    <tr style=\"text-align: right;\">\n",
              "      <th></th>\n",
              "      <th>user_1</th>\n",
              "      <th>user_2</th>\n",
              "    </tr>\n",
              "  </thead>\n",
              "  <tbody>\n",
              "    <tr>\n",
              "      <th>0</th>\n",
              "      <td>9831</td>\n",
              "      <td>19832</td>\n",
              "    </tr>\n",
              "    <tr>\n",
              "      <th>1</th>\n",
              "      <td>9831</td>\n",
              "      <td>4247</td>\n",
              "    </tr>\n",
              "    <tr>\n",
              "      <th>2</th>\n",
              "      <td>9831</td>\n",
              "      <td>7375</td>\n",
              "    </tr>\n",
              "    <tr>\n",
              "      <th>3</th>\n",
              "      <td>9831</td>\n",
              "      <td>15698</td>\n",
              "    </tr>\n",
              "    <tr>\n",
              "      <th>4</th>\n",
              "      <td>9831</td>\n",
              "      <td>8604</td>\n",
              "    </tr>\n",
              "  </tbody>\n",
              "</table>\n",
              "</div>"
            ],
            "text/plain": [
              "   user_1  user_2\n",
              "0    9831   19832\n",
              "1    9831    4247\n",
              "2    9831    7375\n",
              "3    9831   15698\n",
              "4    9831    8604"
            ]
          },
          "metadata": {
            "tags": []
          },
          "execution_count": 3
        }
      ]
    },
    {
      "cell_type": "markdown",
      "metadata": {
        "id": "ZZGpH6fH4_lH",
        "colab_type": "text"
      },
      "source": [
        "number of users"
      ]
    },
    {
      "cell_type": "code",
      "metadata": {
        "id": "OXYU3s_h85Nm",
        "colab_type": "code",
        "outputId": "177a12f8-5ab2-4fbc-e041-066aafbae21a",
        "colab": {
          "base_uri": "https://localhost:8080/",
          "height": 235
        }
      },
      "source": [
        "users_df = pd.DataFrame()\n",
        "users_df['user2_list'] = graph.groupby('user_1', sort=False).user_2.apply(list)\n",
        "users_df['user2_nb'] = users_df.user2_list.apply(len)\n",
        "users_df.head()"
      ],
      "execution_count": 4,
      "outputs": [
        {
          "output_type": "execute_result",
          "data": {
            "text/html": [
              "<div>\n",
              "<style scoped>\n",
              "    .dataframe tbody tr th:only-of-type {\n",
              "        vertical-align: middle;\n",
              "    }\n",
              "\n",
              "    .dataframe tbody tr th {\n",
              "        vertical-align: top;\n",
              "    }\n",
              "\n",
              "    .dataframe thead th {\n",
              "        text-align: right;\n",
              "    }\n",
              "</style>\n",
              "<table border=\"1\" class=\"dataframe\">\n",
              "  <thead>\n",
              "    <tr style=\"text-align: right;\">\n",
              "      <th></th>\n",
              "      <th>user2_list</th>\n",
              "      <th>user2_nb</th>\n",
              "    </tr>\n",
              "    <tr>\n",
              "      <th>user_1</th>\n",
              "      <th></th>\n",
              "      <th></th>\n",
              "    </tr>\n",
              "  </thead>\n",
              "  <tbody>\n",
              "    <tr>\n",
              "      <th>9831</th>\n",
              "      <td>[19832, 4247, 7375, 15698, 8604, 6823, 4076, 2...</td>\n",
              "      <td>293</td>\n",
              "    </tr>\n",
              "    <tr>\n",
              "      <th>5369</th>\n",
              "      <td>[5493, 12037, 15442, 796, 9222, 9140, 19885, 1...</td>\n",
              "      <td>158</td>\n",
              "    </tr>\n",
              "    <tr>\n",
              "      <th>6876</th>\n",
              "      <td>[9597, 12038, 4874, 20830, 3688, 11561, 8587, ...</td>\n",
              "      <td>113</td>\n",
              "    </tr>\n",
              "    <tr>\n",
              "      <th>2760</th>\n",
              "      <td>[6867, 9738, 21552, 14526, 5323, 9140, 2318, 1...</td>\n",
              "      <td>330</td>\n",
              "    </tr>\n",
              "    <tr>\n",
              "      <th>20240</th>\n",
              "      <td>[4076, 7307, 3635, 798, 19950, 333, 3167, 8406...</td>\n",
              "      <td>300</td>\n",
              "    </tr>\n",
              "  </tbody>\n",
              "</table>\n",
              "</div>"
            ],
            "text/plain": [
              "                                               user2_list  user2_nb\n",
              "user_1                                                             \n",
              "9831    [19832, 4247, 7375, 15698, 8604, 6823, 4076, 2...       293\n",
              "5369    [5493, 12037, 15442, 796, 9222, 9140, 19885, 1...       158\n",
              "6876    [9597, 12038, 4874, 20830, 3688, 11561, 8587, ...       113\n",
              "2760    [6867, 9738, 21552, 14526, 5323, 9140, 2318, 1...       330\n",
              "20240   [4076, 7307, 3635, 798, 19950, 333, 3167, 8406...       300"
            ]
          },
          "metadata": {
            "tags": []
          },
          "execution_count": 4
        }
      ]
    },
    {
      "cell_type": "code",
      "metadata": {
        "id": "sL_izIrGDNxU",
        "colab_type": "code",
        "outputId": "4b056952-a042-4906-de7c-469965da8adf",
        "colab": {
          "base_uri": "https://localhost:8080/",
          "height": 282
        }
      },
      "source": [
        "users_df.user2_nb.hist()"
      ],
      "execution_count": 5,
      "outputs": [
        {
          "output_type": "execute_result",
          "data": {
            "text/plain": [
              "<matplotlib.axes._subplots.AxesSubplot at 0x7f86f75f5470>"
            ]
          },
          "metadata": {
            "tags": []
          },
          "execution_count": 5
        },
        {
          "output_type": "display_data",
          "data": {
            "image/png": "[encoded data removed]",
            "text/plain": [
              "<Figure size 432x288 with 1 Axes>"
            ]
          },
          "metadata": {
            "tags": [],
            "needs_background": "light"
          }
        }
      ]
    },
    {
      "cell_type": "code",
      "metadata": {
        "id": "RxQ3I99ZDsdc",
        "colab_type": "code",
        "outputId": "3a7d896f-9032-4e8e-fd33-08fc33ce9652",
        "colab": {
          "base_uri": "https://localhost:8080/",
          "height": 34
        }
      },
      "source": [
        "users_df.user2_nb.max()"
      ],
      "execution_count": 0,
      "outputs": [
        {
          "output_type": "execute_result",
          "data": {
            "text/plain": [
              "1552"
            ]
          },
          "metadata": {
            "tags": []
          },
          "execution_count": 6
        }
      ]
    },
    {
      "cell_type": "code",
      "metadata": {
        "id": "Qwmq7K7WEWv9",
        "colab_type": "code",
        "outputId": "f94d0725-60b6-43f4-f475-a686f963dc22",
        "colab": {
          "base_uri": "https://localhost:8080/",
          "height": 700
        }
      },
      "source": [
        "users_df.sort_values(by=['user2_nb'], ascending=False)[:20]"
      ],
      "execution_count": 0,
      "outputs": [
        {
          "output_type": "execute_result",
          "data": {
            "text/html": [
              "<div>\n",
              "<style scoped>\n",
              "    .dataframe tbody tr th:only-of-type {\n",
              "        vertical-align: middle;\n",
              "    }\n",
              "\n",
              "    .dataframe tbody tr th {\n",
              "        vertical-align: top;\n",
              "    }\n",
              "\n",
              "    .dataframe thead th {\n",
              "        text-align: right;\n",
              "    }\n",
              "</style>\n",
              "<table border=\"1\" class=\"dataframe\">\n",
              "  <thead>\n",
              "    <tr style=\"text-align: right;\">\n",
              "      <th></th>\n",
              "      <th>user2_list</th>\n",
              "      <th>user2_nb</th>\n",
              "    </tr>\n",
              "    <tr>\n",
              "      <th>user_1</th>\n",
              "      <th></th>\n",
              "      <th></th>\n",
              "    </tr>\n",
              "  </thead>\n",
              "  <tbody>\n",
              "    <tr>\n",
              "      <th>14547</th>\n",
              "      <td>[21301, 7595, 17694, 20830, 5860, 21722, 20378...</td>\n",
              "      <td>1552</td>\n",
              "    </tr>\n",
              "    <tr>\n",
              "      <th>12804</th>\n",
              "      <td>[21359, 6162, 17485, 5636, 8225, 21863, 9083, ...</td>\n",
              "      <td>1215</td>\n",
              "    </tr>\n",
              "    <tr>\n",
              "      <th>14309</th>\n",
              "      <td>[11936, 15249, 3315, 10885, 17043, 12361, 1135...</td>\n",
              "      <td>999</td>\n",
              "    </tr>\n",
              "    <tr>\n",
              "      <th>3426</th>\n",
              "      <td>[19878, 9071, 21722, 19016, 9248, 7156, 3485, ...</td>\n",
              "      <td>828</td>\n",
              "    </tr>\n",
              "    <tr>\n",
              "      <th>19837</th>\n",
              "      <td>[19837, 15626, 6143, 5095, 20782, 5168, 7149, ...</td>\n",
              "      <td>828</td>\n",
              "    </tr>\n",
              "    <tr>\n",
              "      <th>18620</th>\n",
              "      <td>[19950, 5912, 8604, 4347, 12370, 14325, 16058,...</td>\n",
              "      <td>813</td>\n",
              "    </tr>\n",
              "    <tr>\n",
              "      <th>22145</th>\n",
              "      <td>[12141, 15625, 11496, 3202, 50, 7432, 15234, 1...</td>\n",
              "      <td>745</td>\n",
              "    </tr>\n",
              "    <tr>\n",
              "      <th>2742</th>\n",
              "      <td>[21249, 21007, 12037, 15373, 1567, 13237, 7479...</td>\n",
              "      <td>714</td>\n",
              "    </tr>\n",
              "    <tr>\n",
              "      <th>5670</th>\n",
              "      <td>[10757, 17493, 19672, 1896, 3635, 12783, 15422...</td>\n",
              "      <td>706</td>\n",
              "    </tr>\n",
              "    <tr>\n",
              "      <th>19191</th>\n",
              "      <td>[12151, 18282, 17090, 20157, 460, 15901, 13326...</td>\n",
              "      <td>699</td>\n",
              "    </tr>\n",
              "    <tr>\n",
              "      <th>3645</th>\n",
              "      <td>[3141, 10949, 10135, 1726, 12795, 15422, 3073,...</td>\n",
              "      <td>690</td>\n",
              "    </tr>\n",
              "    <tr>\n",
              "      <th>7064</th>\n",
              "      <td>[19128, 15796, 12567, 15373, 18791, 7693, 1099...</td>\n",
              "      <td>646</td>\n",
              "    </tr>\n",
              "    <tr>\n",
              "      <th>2072</th>\n",
              "      <td>[13237, 8587, 1425, 2106, 2461, 18056, 15442, ...</td>\n",
              "      <td>597</td>\n",
              "    </tr>\n",
              "    <tr>\n",
              "      <th>9261</th>\n",
              "      <td>[14386, 11061, 12342, 21552, 19911, 12308, 199...</td>\n",
              "      <td>574</td>\n",
              "    </tr>\n",
              "    <tr>\n",
              "      <th>8993</th>\n",
              "      <td>[1566, 10708, 9370, 10997, 4491, 20157, 20460,...</td>\n",
              "      <td>562</td>\n",
              "    </tr>\n",
              "    <tr>\n",
              "      <th>8532</th>\n",
              "      <td>[17694, 5912, 4555, 17047, 20639, 21301, 12111...</td>\n",
              "      <td>552</td>\n",
              "    </tr>\n",
              "    <tr>\n",
              "      <th>13567</th>\n",
              "      <td>[11584, 22038, 3420, 16322, 6803, 1726, 2458, ...</td>\n",
              "      <td>541</td>\n",
              "    </tr>\n",
              "    <tr>\n",
              "      <th>61</th>\n",
              "      <td>[19704, 6241, 13967, 19810, 2072, 6365, 11265,...</td>\n",
              "      <td>500</td>\n",
              "    </tr>\n",
              "    <tr>\n",
              "      <th>19885</th>\n",
              "      <td>[10819, 6823, 2023, 263, 7737, 9304, 1715, 198...</td>\n",
              "      <td>494</td>\n",
              "    </tr>\n",
              "    <tr>\n",
              "      <th>11810</th>\n",
              "      <td>[9426, 20278, 11212, 1732, 14333, 20785, 19990...</td>\n",
              "      <td>492</td>\n",
              "    </tr>\n",
              "  </tbody>\n",
              "</table>\n",
              "</div>"
            ],
            "text/plain": [
              "                                               user2_list  user2_nb\n",
              "user_1                                                             \n",
              "14547   [21301, 7595, 17694, 20830, 5860, 21722, 20378...      1552\n",
              "12804   [21359, 6162, 17485, 5636, 8225, 21863, 9083, ...      1215\n",
              "14309   [11936, 15249, 3315, 10885, 17043, 12361, 1135...       999\n",
              "3426    [19878, 9071, 21722, 19016, 9248, 7156, 3485, ...       828\n",
              "19837   [19837, 15626, 6143, 5095, 20782, 5168, 7149, ...       828\n",
              "18620   [19950, 5912, 8604, 4347, 12370, 14325, 16058,...       813\n",
              "22145   [12141, 15625, 11496, 3202, 50, 7432, 15234, 1...       745\n",
              "2742    [21249, 21007, 12037, 15373, 1567, 13237, 7479...       714\n",
              "5670    [10757, 17493, 19672, 1896, 3635, 12783, 15422...       706\n",
              "19191   [12151, 18282, 17090, 20157, 460, 15901, 13326...       699\n",
              "3645    [3141, 10949, 10135, 1726, 12795, 15422, 3073,...       690\n",
              "7064    [19128, 15796, 12567, 15373, 18791, 7693, 1099...       646\n",
              "2072    [13237, 8587, 1425, 2106, 2461, 18056, 15442, ...       597\n",
              "9261    [14386, 11061, 12342, 21552, 19911, 12308, 199...       574\n",
              "8993    [1566, 10708, 9370, 10997, 4491, 20157, 20460,...       562\n",
              "8532    [17694, 5912, 4555, 17047, 20639, 21301, 12111...       552\n",
              "13567   [11584, 22038, 3420, 16322, 6803, 1726, 2458, ...       541\n",
              "61      [19704, 6241, 13967, 19810, 2072, 6365, 11265,...       500\n",
              "19885   [10819, 6823, 2023, 263, 7737, 9304, 1715, 198...       494\n",
              "11810   [9426, 20278, 11212, 1732, 14333, 20785, 19990...       492"
            ]
          },
          "metadata": {
            "tags": []
          },
          "execution_count": 7
        }
      ]
    },
    {
      "cell_type": "code",
      "metadata": {
        "id": "Gv_KTwt75d4C",
        "colab_type": "code",
        "outputId": "9d6f13c5-6ca9-432e-b119-94dafcf86fe5",
        "colab": {
          "base_uri": "https://localhost:8080/",
          "height": 34
        }
      },
      "source": [
        "graph.user_1.unique().shape"
      ],
      "execution_count": 0,
      "outputs": [
        {
          "output_type": "execute_result",
          "data": {
            "text/plain": [
              "(15449,)"
            ]
          },
          "metadata": {
            "tags": []
          },
          "execution_count": 10
        }
      ]
    },
    {
      "cell_type": "code",
      "metadata": {
        "id": "JPo-soGs5rTq",
        "colab_type": "code",
        "outputId": "89e05aff-4b97-41f0-c114-6128a6cce35f",
        "colab": {
          "base_uri": "https://localhost:8080/",
          "height": 34
        }
      },
      "source": [
        "graph.user_2.unique().shape"
      ],
      "execution_count": 0,
      "outputs": [
        {
          "output_type": "execute_result",
          "data": {
            "text/plain": [
              "(15868,)"
            ]
          },
          "metadata": {
            "tags": []
          },
          "execution_count": 11
        }
      ]
    },
    {
      "cell_type": "markdown",
      "metadata": {
        "id": "BVgFVmOXIGEG",
        "colab_type": "text"
      },
      "source": [
        "# weights"
      ]
    },
    {
      "cell_type": "code",
      "metadata": {
        "id": "IoIY195CIJcR",
        "colab_type": "code",
        "outputId": "f939e90a-7d71-4bc5-b375-db944bf4252a",
        "colab": {
          "base_uri": "https://localhost:8080/",
          "height": 204
        }
      },
      "source": [
        "rating_with_timestamp = pd.read_csv('/content/drive/My Drive/Social Networks/'\n",
        "                                    'rating_with_timestamp.txt',\n",
        "                                    names=['user_id', \n",
        "                                           'product_id', \n",
        "                                           'category_id', \n",
        "                                           'rating',\n",
        "                                           'helpfulness',\n",
        "                                           'time_stamp'],\n",
        "                                    delim_whitespace=True)\n",
        "\n",
        "rating_df = pd.DataFrame()\n",
        "rating_df = rating_with_timestamp[['user_id', 'category_id', 'rating']]\n",
        "rating_df = rating_df.astype({'user_id': 'int32',\n",
        "                              'category_id': 'int32',\n",
        "                              'rating': 'int32'})\n",
        "rating_df.head()"
      ],
      "execution_count": 6,
      "outputs": [
        {
          "output_type": "execute_result",
          "data": {
            "text/html": [
              "<div>\n",
              "<style scoped>\n",
              "    .dataframe tbody tr th:only-of-type {\n",
              "        vertical-align: middle;\n",
              "    }\n",
              "\n",
              "    .dataframe tbody tr th {\n",
              "        vertical-align: top;\n",
              "    }\n",
              "\n",
              "    .dataframe thead th {\n",
              "        text-align: right;\n",
              "    }\n",
              "</style>\n",
              "<table border=\"1\" class=\"dataframe\">\n",
              "  <thead>\n",
              "    <tr style=\"text-align: right;\">\n",
              "      <th></th>\n",
              "      <th>user_id</th>\n",
              "      <th>category_id</th>\n",
              "      <th>rating</th>\n",
              "    </tr>\n",
              "  </thead>\n",
              "  <tbody>\n",
              "    <tr>\n",
              "      <th>0</th>\n",
              "      <td>1</td>\n",
              "      <td>3</td>\n",
              "      <td>2</td>\n",
              "    </tr>\n",
              "    <tr>\n",
              "      <th>1</th>\n",
              "      <td>1</td>\n",
              "      <td>2</td>\n",
              "      <td>2</td>\n",
              "    </tr>\n",
              "    <tr>\n",
              "      <th>2</th>\n",
              "      <td>1</td>\n",
              "      <td>3</td>\n",
              "      <td>2</td>\n",
              "    </tr>\n",
              "    <tr>\n",
              "      <th>3</th>\n",
              "      <td>1</td>\n",
              "      <td>3</td>\n",
              "      <td>5</td>\n",
              "    </tr>\n",
              "    <tr>\n",
              "      <th>4</th>\n",
              "      <td>1</td>\n",
              "      <td>3</td>\n",
              "      <td>3</td>\n",
              "    </tr>\n",
              "  </tbody>\n",
              "</table>\n",
              "</div>"
            ],
            "text/plain": [
              "   user_id  category_id  rating\n",
              "0        1            3       2\n",
              "1        1            2       2\n",
              "2        1            3       2\n",
              "3        1            3       5\n",
              "4        1            3       3"
            ]
          },
          "metadata": {
            "tags": []
          },
          "execution_count": 6
        }
      ]
    },
    {
      "cell_type": "code",
      "metadata": {
        "id": "co0UGaO6Pzog",
        "colab_type": "code",
        "outputId": "69dc33a3-2451-4f38-ebba-af9447b41b37",
        "colab": {
          "base_uri": "https://localhost:8080/",
          "height": 204
        }
      },
      "source": [
        "rating_with_timestamp_test = pd.read_csv('/content/drive/My Drive/Social Networks/'\n",
        "                                    'rating_timestamp_test.txt',\n",
        "                                    names=['user_id', \n",
        "                                           'product_id', \n",
        "                                           'category_id', \n",
        "                                           'rating',\n",
        "                                           'helpfulness',\n",
        "                                           'time_stamp'],\n",
        "                                    delim_whitespace=True)\n",
        "\n",
        "rating_t = pd.DataFrame()\n",
        "rating_t = rating_with_timestamp_test[['user_id', 'category_id', 'rating']]\n",
        "rating_t = rating_t.astype({'user_id': 'int32', \n",
        "                           'category_id': 'int32', \n",
        "                           'rating': 'int32'})\n",
        "rating_t.head()"
      ],
      "execution_count": 7,
      "outputs": [
        {
          "output_type": "execute_result",
          "data": {
            "text/html": [
              "<div>\n",
              "<style scoped>\n",
              "    .dataframe tbody tr th:only-of-type {\n",
              "        vertical-align: middle;\n",
              "    }\n",
              "\n",
              "    .dataframe tbody tr th {\n",
              "        vertical-align: top;\n",
              "    }\n",
              "\n",
              "    .dataframe thead th {\n",
              "        text-align: right;\n",
              "    }\n",
              "</style>\n",
              "<table border=\"1\" class=\"dataframe\">\n",
              "  <thead>\n",
              "    <tr style=\"text-align: right;\">\n",
              "      <th></th>\n",
              "      <th>user_id</th>\n",
              "      <th>category_id</th>\n",
              "      <th>rating</th>\n",
              "    </tr>\n",
              "  </thead>\n",
              "  <tbody>\n",
              "    <tr>\n",
              "      <th>0</th>\n",
              "      <td>1</td>\n",
              "      <td>2</td>\n",
              "      <td>2</td>\n",
              "    </tr>\n",
              "    <tr>\n",
              "      <th>1</th>\n",
              "      <td>1</td>\n",
              "      <td>3</td>\n",
              "      <td>2</td>\n",
              "    </tr>\n",
              "    <tr>\n",
              "      <th>2</th>\n",
              "      <td>1</td>\n",
              "      <td>3</td>\n",
              "      <td>2</td>\n",
              "    </tr>\n",
              "    <tr>\n",
              "      <th>3</th>\n",
              "      <td>1</td>\n",
              "      <td>3</td>\n",
              "      <td>5</td>\n",
              "    </tr>\n",
              "    <tr>\n",
              "      <th>4</th>\n",
              "      <td>1</td>\n",
              "      <td>3</td>\n",
              "      <td>3</td>\n",
              "    </tr>\n",
              "  </tbody>\n",
              "</table>\n",
              "</div>"
            ],
            "text/plain": [
              "   user_id  category_id  rating\n",
              "0        1            2       2\n",
              "1        1            3       2\n",
              "2        1            3       2\n",
              "3        1            3       5\n",
              "4        1            3       3"
            ]
          },
          "metadata": {
            "tags": []
          },
          "execution_count": 7
        }
      ]
    },
    {
      "cell_type": "code",
      "metadata": {
        "id": "WjJJ711fXm1d",
        "colab_type": "code",
        "outputId": "95b43c6a-3dc2-4bc4-c938-42d4540ee353",
        "colab": {
          "base_uri": "https://localhost:8080/",
          "height": 34
        }
      },
      "source": [
        "15/4"
      ],
      "execution_count": 0,
      "outputs": [
        {
          "output_type": "execute_result",
          "data": {
            "text/plain": [
              "3.75"
            ]
          },
          "metadata": {
            "tags": []
          },
          "execution_count": 17
        }
      ]
    },
    {
      "cell_type": "code",
      "metadata": {
        "id": "H0m-qRvuRU-k",
        "colab_type": "code",
        "outputId": "46f71bb8-aeba-4e87-f3ff-8c647956a0c3",
        "colab": {
          "base_uri": "https://localhost:8080/",
          "height": 824
        }
      },
      "source": [
        "rating_t"
      ],
      "execution_count": 0,
      "outputs": [
        {
          "output_type": "execute_result",
          "data": {
            "text/html": [
              "<div>\n",
              "<style scoped>\n",
              "    .dataframe tbody tr th:only-of-type {\n",
              "        vertical-align: middle;\n",
              "    }\n",
              "\n",
              "    .dataframe tbody tr th {\n",
              "        vertical-align: top;\n",
              "    }\n",
              "\n",
              "    .dataframe thead th {\n",
              "        text-align: right;\n",
              "    }\n",
              "</style>\n",
              "<table border=\"1\" class=\"dataframe\">\n",
              "  <thead>\n",
              "    <tr style=\"text-align: right;\">\n",
              "      <th></th>\n",
              "      <th>user_id</th>\n",
              "      <th>category_id</th>\n",
              "      <th>rating</th>\n",
              "    </tr>\n",
              "  </thead>\n",
              "  <tbody>\n",
              "    <tr>\n",
              "      <th>0</th>\n",
              "      <td>1</td>\n",
              "      <td>2</td>\n",
              "      <td>2</td>\n",
              "    </tr>\n",
              "    <tr>\n",
              "      <th>1</th>\n",
              "      <td>1</td>\n",
              "      <td>3</td>\n",
              "      <td>2</td>\n",
              "    </tr>\n",
              "    <tr>\n",
              "      <th>2</th>\n",
              "      <td>1</td>\n",
              "      <td>3</td>\n",
              "      <td>2</td>\n",
              "    </tr>\n",
              "    <tr>\n",
              "      <th>3</th>\n",
              "      <td>1</td>\n",
              "      <td>3</td>\n",
              "      <td>5</td>\n",
              "    </tr>\n",
              "    <tr>\n",
              "      <th>4</th>\n",
              "      <td>1</td>\n",
              "      <td>3</td>\n",
              "      <td>3</td>\n",
              "    </tr>\n",
              "    <tr>\n",
              "      <th>5</th>\n",
              "      <td>2</td>\n",
              "      <td>10</td>\n",
              "      <td>5</td>\n",
              "    </tr>\n",
              "    <tr>\n",
              "      <th>6</th>\n",
              "      <td>2</td>\n",
              "      <td>10</td>\n",
              "      <td>3</td>\n",
              "    </tr>\n",
              "    <tr>\n",
              "      <th>7</th>\n",
              "      <td>2</td>\n",
              "      <td>10</td>\n",
              "      <td>5</td>\n",
              "    </tr>\n",
              "    <tr>\n",
              "      <th>8</th>\n",
              "      <td>2</td>\n",
              "      <td>3</td>\n",
              "      <td>3</td>\n",
              "    </tr>\n",
              "    <tr>\n",
              "      <th>9</th>\n",
              "      <td>2</td>\n",
              "      <td>3</td>\n",
              "      <td>4</td>\n",
              "    </tr>\n",
              "    <tr>\n",
              "      <th>10</th>\n",
              "      <td>2</td>\n",
              "      <td>3</td>\n",
              "      <td>3</td>\n",
              "    </tr>\n",
              "    <tr>\n",
              "      <th>11</th>\n",
              "      <td>2</td>\n",
              "      <td>3</td>\n",
              "      <td>5</td>\n",
              "    </tr>\n",
              "    <tr>\n",
              "      <th>12</th>\n",
              "      <td>2</td>\n",
              "      <td>5</td>\n",
              "      <td>5</td>\n",
              "    </tr>\n",
              "    <tr>\n",
              "      <th>13</th>\n",
              "      <td>6</td>\n",
              "      <td>15</td>\n",
              "      <td>4</td>\n",
              "    </tr>\n",
              "    <tr>\n",
              "      <th>14</th>\n",
              "      <td>6</td>\n",
              "      <td>15</td>\n",
              "      <td>5</td>\n",
              "    </tr>\n",
              "    <tr>\n",
              "      <th>15</th>\n",
              "      <td>6</td>\n",
              "      <td>15</td>\n",
              "      <td>5</td>\n",
              "    </tr>\n",
              "    <tr>\n",
              "      <th>16</th>\n",
              "      <td>6</td>\n",
              "      <td>15</td>\n",
              "      <td>5</td>\n",
              "    </tr>\n",
              "    <tr>\n",
              "      <th>17</th>\n",
              "      <td>6</td>\n",
              "      <td>15</td>\n",
              "      <td>5</td>\n",
              "    </tr>\n",
              "    <tr>\n",
              "      <th>18</th>\n",
              "      <td>6</td>\n",
              "      <td>15</td>\n",
              "      <td>5</td>\n",
              "    </tr>\n",
              "    <tr>\n",
              "      <th>19</th>\n",
              "      <td>6</td>\n",
              "      <td>5</td>\n",
              "      <td>5</td>\n",
              "    </tr>\n",
              "    <tr>\n",
              "      <th>20</th>\n",
              "      <td>6</td>\n",
              "      <td>17</td>\n",
              "      <td>5</td>\n",
              "    </tr>\n",
              "    <tr>\n",
              "      <th>21</th>\n",
              "      <td>6</td>\n",
              "      <td>17</td>\n",
              "      <td>5</td>\n",
              "    </tr>\n",
              "    <tr>\n",
              "      <th>22</th>\n",
              "      <td>6</td>\n",
              "      <td>3</td>\n",
              "      <td>5</td>\n",
              "    </tr>\n",
              "    <tr>\n",
              "      <th>23</th>\n",
              "      <td>6</td>\n",
              "      <td>3</td>\n",
              "      <td>5</td>\n",
              "    </tr>\n",
              "    <tr>\n",
              "      <th>24</th>\n",
              "      <td>6</td>\n",
              "      <td>3</td>\n",
              "      <td>2</td>\n",
              "    </tr>\n",
              "  </tbody>\n",
              "</table>\n",
              "</div>"
            ],
            "text/plain": [
              "    user_id  category_id  rating\n",
              "0         1            2       2\n",
              "1         1            3       2\n",
              "2         1            3       2\n",
              "3         1            3       5\n",
              "4         1            3       3\n",
              "5         2           10       5\n",
              "6         2           10       3\n",
              "7         2           10       5\n",
              "8         2            3       3\n",
              "9         2            3       4\n",
              "10        2            3       3\n",
              "11        2            3       5\n",
              "12        2            5       5\n",
              "13        6           15       4\n",
              "14        6           15       5\n",
              "15        6           15       5\n",
              "16        6           15       5\n",
              "17        6           15       5\n",
              "18        6           15       5\n",
              "19        6            5       5\n",
              "20        6           17       5\n",
              "21        6           17       5\n",
              "22        6            3       5\n",
              "23        6            3       5\n",
              "24        6            3       2"
            ]
          },
          "metadata": {
            "tags": []
          },
          "execution_count": 13
        }
      ]
    },
    {
      "cell_type": "code",
      "metadata": {
        "id": "x-JsQxUYSMgp",
        "colab_type": "code",
        "colab": {
          "base_uri": "https://localhost:8080/",
          "height": 359
        },
        "outputId": "74bc82c6-87e5-40ce-ddfa-c33c2994e186"
      },
      "source": [
        "rating_t_gb = rating_t.groupby(['user_id', 'category_id']).mean()\n",
        "rating_t_gb['rating'] = rating_t_gb.rating.apply(lambda v: round(v, 3))\n",
        "rating_t_gb"
      ],
      "execution_count": 78,
      "outputs": [
        {
          "output_type": "execute_result",
          "data": {
            "text/html": [
              "<div>\n",
              "<style scoped>\n",
              "    .dataframe tbody tr th:only-of-type {\n",
              "        vertical-align: middle;\n",
              "    }\n",
              "\n",
              "    .dataframe tbody tr th {\n",
              "        vertical-align: top;\n",
              "    }\n",
              "\n",
              "    .dataframe thead th {\n",
              "        text-align: right;\n",
              "    }\n",
              "</style>\n",
              "<table border=\"1\" class=\"dataframe\">\n",
              "  <thead>\n",
              "    <tr style=\"text-align: right;\">\n",
              "      <th></th>\n",
              "      <th></th>\n",
              "      <th>rating</th>\n",
              "    </tr>\n",
              "    <tr>\n",
              "      <th>user_id</th>\n",
              "      <th>category_id</th>\n",
              "      <th></th>\n",
              "    </tr>\n",
              "  </thead>\n",
              "  <tbody>\n",
              "    <tr>\n",
              "      <th rowspan=\"2\" valign=\"top\">1</th>\n",
              "      <th>2</th>\n",
              "      <td>2.000</td>\n",
              "    </tr>\n",
              "    <tr>\n",
              "      <th>3</th>\n",
              "      <td>3.000</td>\n",
              "    </tr>\n",
              "    <tr>\n",
              "      <th rowspan=\"3\" valign=\"top\">2</th>\n",
              "      <th>3</th>\n",
              "      <td>3.750</td>\n",
              "    </tr>\n",
              "    <tr>\n",
              "      <th>5</th>\n",
              "      <td>5.000</td>\n",
              "    </tr>\n",
              "    <tr>\n",
              "      <th>10</th>\n",
              "      <td>4.333</td>\n",
              "    </tr>\n",
              "    <tr>\n",
              "      <th rowspan=\"4\" valign=\"top\">6</th>\n",
              "      <th>3</th>\n",
              "      <td>4.000</td>\n",
              "    </tr>\n",
              "    <tr>\n",
              "      <th>5</th>\n",
              "      <td>5.000</td>\n",
              "    </tr>\n",
              "    <tr>\n",
              "      <th>15</th>\n",
              "      <td>4.833</td>\n",
              "    </tr>\n",
              "    <tr>\n",
              "      <th>17</th>\n",
              "      <td>5.000</td>\n",
              "    </tr>\n",
              "  </tbody>\n",
              "</table>\n",
              "</div>"
            ],
            "text/plain": [
              "                     rating\n",
              "user_id category_id        \n",
              "1       2             2.000\n",
              "        3             3.000\n",
              "2       3             3.750\n",
              "        5             5.000\n",
              "        10            4.333\n",
              "6       3             4.000\n",
              "        5             5.000\n",
              "        15            4.833\n",
              "        17            5.000"
            ]
          },
          "metadata": {
            "tags": []
          },
          "execution_count": 78
        }
      ]
    },
    {
      "cell_type": "code",
      "metadata": {
        "id": "75j28wqCCpZk",
        "colab_type": "code",
        "colab": {
          "base_uri": "https://localhost:8080/",
          "height": 187
        },
        "outputId": "ebd2c8de-9627-4299-9988-feb1dc318d52"
      },
      "source": [
        "rating_t_gb.index"
      ],
      "execution_count": 79,
      "outputs": [
        {
          "output_type": "execute_result",
          "data": {
            "text/plain": [
              "MultiIndex([(1,  2),\n",
              "            (1,  3),\n",
              "            (2,  3),\n",
              "            (2,  5),\n",
              "            (2, 10),\n",
              "            (6,  3),\n",
              "            (6,  5),\n",
              "            (6, 15),\n",
              "            (6, 17)],\n",
              "           names=['user_id', 'category_id'])"
            ]
          },
          "metadata": {
            "tags": []
          },
          "execution_count": 79
        }
      ]
    },
    {
      "cell_type": "code",
      "metadata": {
        "id": "vtQ4RHETAxUh",
        "colab_type": "code",
        "colab": {
          "base_uri": "https://localhost:8080/",
          "height": 359
        },
        "outputId": "3cd5cf62-a557-462f-822d-f41e3c120a4e"
      },
      "source": [
        "# get the values of the first level index (category_id)\n",
        "category_ids = rating_t_gb.index.get_level_values('category_id')\n",
        "# set index just to user_id\n",
        "rating_t_gb.index = rating_t_gb.index.get_level_values(0)\n",
        "# put the values of the index into a cilumn\n",
        "rating_t_gb['category_id'] = category_ids\n",
        "# re-oreder coumn values\n",
        "rating_t_gb = rating_t_gb[['category_id', 'rating']]\n",
        "rating_t_gb"
      ],
      "execution_count": 80,
      "outputs": [
        {
          "output_type": "execute_result",
          "data": {
            "text/html": [
              "<div>\n",
              "<style scoped>\n",
              "    .dataframe tbody tr th:only-of-type {\n",
              "        vertical-align: middle;\n",
              "    }\n",
              "\n",
              "    .dataframe tbody tr th {\n",
              "        vertical-align: top;\n",
              "    }\n",
              "\n",
              "    .dataframe thead th {\n",
              "        text-align: right;\n",
              "    }\n",
              "</style>\n",
              "<table border=\"1\" class=\"dataframe\">\n",
              "  <thead>\n",
              "    <tr style=\"text-align: right;\">\n",
              "      <th></th>\n",
              "      <th>category_id</th>\n",
              "      <th>rating</th>\n",
              "    </tr>\n",
              "    <tr>\n",
              "      <th>user_id</th>\n",
              "      <th></th>\n",
              "      <th></th>\n",
              "    </tr>\n",
              "  </thead>\n",
              "  <tbody>\n",
              "    <tr>\n",
              "      <th>1</th>\n",
              "      <td>2</td>\n",
              "      <td>2.000</td>\n",
              "    </tr>\n",
              "    <tr>\n",
              "      <th>1</th>\n",
              "      <td>3</td>\n",
              "      <td>3.000</td>\n",
              "    </tr>\n",
              "    <tr>\n",
              "      <th>2</th>\n",
              "      <td>3</td>\n",
              "      <td>3.750</td>\n",
              "    </tr>\n",
              "    <tr>\n",
              "      <th>2</th>\n",
              "      <td>5</td>\n",
              "      <td>5.000</td>\n",
              "    </tr>\n",
              "    <tr>\n",
              "      <th>2</th>\n",
              "      <td>10</td>\n",
              "      <td>4.333</td>\n",
              "    </tr>\n",
              "    <tr>\n",
              "      <th>6</th>\n",
              "      <td>3</td>\n",
              "      <td>4.000</td>\n",
              "    </tr>\n",
              "    <tr>\n",
              "      <th>6</th>\n",
              "      <td>5</td>\n",
              "      <td>5.000</td>\n",
              "    </tr>\n",
              "    <tr>\n",
              "      <th>6</th>\n",
              "      <td>15</td>\n",
              "      <td>4.833</td>\n",
              "    </tr>\n",
              "    <tr>\n",
              "      <th>6</th>\n",
              "      <td>17</td>\n",
              "      <td>5.000</td>\n",
              "    </tr>\n",
              "  </tbody>\n",
              "</table>\n",
              "</div>"
            ],
            "text/plain": [
              "         category_id  rating\n",
              "user_id                     \n",
              "1                  2   2.000\n",
              "1                  3   3.000\n",
              "2                  3   3.750\n",
              "2                  5   5.000\n",
              "2                 10   4.333\n",
              "6                  3   4.000\n",
              "6                  5   5.000\n",
              "6                 15   4.833\n",
              "6                 17   5.000"
            ]
          },
          "metadata": {
            "tags": []
          },
          "execution_count": 80
        }
      ]
    },
    {
      "cell_type": "code",
      "metadata": {
        "id": "lFWw8JhDIhiv",
        "colab_type": "code",
        "colab": {}
      },
      "source": [
        "rt_gb = rating_t_gb.groupby('user_id').apply(lambda r: dict(zip(r['category_id'], r['rating'])))#.reset_index().rename(columns={\"id_one\":\"col a\", 0:\"col b\"})\n",
        "rat_df = pd.DataFrame(data=rt_gb, columns=['ratings'])\n",
        "rat_df"
      ],
      "execution_count": 0,
      "outputs": []
    },
    {
      "cell_type": "code",
      "metadata": {
        "id": "ssVdwP7lKxe9",
        "colab_type": "code",
        "colab": {
          "base_uri": "https://localhost:8080/",
          "height": 173
        },
        "outputId": "36f1d166-c737-4f2b-d88d-3a2c52f2f6e1"
      },
      "source": [
        "rat_df"
      ],
      "execution_count": 89,
      "outputs": [
        {
          "output_type": "execute_result",
          "data": {
            "text/html": [
              "<div>\n",
              "<style scoped>\n",
              "    .dataframe tbody tr th:only-of-type {\n",
              "        vertical-align: middle;\n",
              "    }\n",
              "\n",
              "    .dataframe tbody tr th {\n",
              "        vertical-align: top;\n",
              "    }\n",
              "\n",
              "    .dataframe thead th {\n",
              "        text-align: right;\n",
              "    }\n",
              "</style>\n",
              "<table border=\"1\" class=\"dataframe\">\n",
              "  <thead>\n",
              "    <tr style=\"text-align: right;\">\n",
              "      <th></th>\n",
              "      <th>ratings</th>\n",
              "    </tr>\n",
              "    <tr>\n",
              "      <th>user_id</th>\n",
              "      <th></th>\n",
              "    </tr>\n",
              "  </thead>\n",
              "  <tbody>\n",
              "    <tr>\n",
              "      <th>1</th>\n",
              "      <td>{2: 2.0, 3: 3.0}</td>\n",
              "    </tr>\n",
              "    <tr>\n",
              "      <th>2</th>\n",
              "      <td>{3: 3.75, 5: 5.0, 10: 4.333}</td>\n",
              "    </tr>\n",
              "    <tr>\n",
              "      <th>6</th>\n",
              "      <td>{3: 4.0, 5: 5.0, 15: 4.833, 17: 5.0}</td>\n",
              "    </tr>\n",
              "  </tbody>\n",
              "</table>\n",
              "</div>"
            ],
            "text/plain": [
              "                                      ratings\n",
              "user_id                                      \n",
              "1                            {2: 2.0, 3: 3.0}\n",
              "2                {3: 3.75, 5: 5.0, 10: 4.333}\n",
              "6        {3: 4.0, 5: 5.0, 15: 4.833, 17: 5.0}"
            ]
          },
          "metadata": {
            "tags": []
          },
          "execution_count": 89
        }
      ]
    },
    {
      "cell_type": "code",
      "metadata": {
        "id": "VlSg-VOkR0n2",
        "colab_type": "code",
        "colab": {}
      },
      "source": [
        "def influence_probs(user1_user2, df_ratings):\n",
        "\n",
        "  infl_dict = dict()\n",
        "  \n",
        "  # get users\n",
        "  user1 = user1_user2[0]\n",
        "  user2 = user1_user2[1]\n",
        "\n",
        "  # get ratings\n",
        "  ratings_user1 = df_ratings.loc[user1].iloc[0]\n",
        "  ratings_user2 = df_ratings.loc[user2].iloc[0]\n",
        "\n",
        "  # get categories that have rated\n",
        "  user1_categories = set(ratings_user1.keys())\n",
        "  user2_categories = set(ratings_user2.keys())\n",
        "\n",
        "  common_categories = user1_categories.intersection(user2_categories)\n",
        "\n",
        "  # if there are no common categories then there is no influence\n",
        "  if len(common_categories) == 0:\n",
        "    return infl_dict\n",
        "\n",
        "  # avoid division by zero\n",
        "  eps = 1e-09\n",
        "\n",
        "  # denominator\n",
        "  denom = 0\n",
        "  for cc in common_categories:\n",
        "    user1_rating = ratings_user1[cc]\n",
        "    user2_rating = ratings_user2[cc]\n",
        "    denom += abs(user1_rating - user2_rating)\n",
        "  denom += eps\n",
        "  denom = 1.0 / denom\n",
        "\n",
        "  # categories of both user_1 and user_2\n",
        "  categories = user1_categories.union(user2_categories)\n",
        "  # compute influence probability for every category\n",
        "  for c in categories:\n",
        "    if c in user1_categories:\n",
        "      usr1_rating = ratings_user1[c]\n",
        "    else:\n",
        "      usr1_rating = 0\n",
        "    if c in user2_categories:\n",
        "      usr2_rating = ratings_user2[c]\n",
        "    else:\n",
        "      usr2_rating = 0\n",
        "    numer = abs(usr1_rating - usr2_rating)\n",
        "    numer += eps\n",
        "    numer = 1.0 / numer\n",
        "    res = round(numer / denom, 3)\n",
        "    infl_dict[c] = res\n",
        "\n",
        "  return infl_dict"
      ],
      "execution_count": 0,
      "outputs": []
    },
    {
      "cell_type": "code",
      "metadata": {
        "id": "SF4X2YSml64q",
        "colab_type": "code",
        "colab": {
          "base_uri": "https://localhost:8080/",
          "height": 142
        },
        "outputId": "95a892fa-a066-412f-ee68-7b1d0c69535e"
      },
      "source": [
        "l = list(combinations(rat_df.index.tolist(), 2))\n",
        "s = pd.Series(l)\n",
        "test_df = pd.DataFrame(data=s, columns=['user1_user2'])\n",
        "test_df['influence_probabilities'] = test_df.apply(lambda r: influence_probs(r.user1_user2, rat_df), axis=1)\n",
        "test_df.head()"
      ],
      "execution_count": 142,
      "outputs": [
        {
          "output_type": "execute_result",
          "data": {
            "text/html": [
              "<div>\n",
              "<style scoped>\n",
              "    .dataframe tbody tr th:only-of-type {\n",
              "        vertical-align: middle;\n",
              "    }\n",
              "\n",
              "    .dataframe tbody tr th {\n",
              "        vertical-align: top;\n",
              "    }\n",
              "\n",
              "    .dataframe thead th {\n",
              "        text-align: right;\n",
              "    }\n",
              "</style>\n",
              "<table border=\"1\" class=\"dataframe\">\n",
              "  <thead>\n",
              "    <tr style=\"text-align: right;\">\n",
              "      <th></th>\n",
              "      <th>user1_user2</th>\n",
              "      <th>influence_probabilities</th>\n",
              "    </tr>\n",
              "  </thead>\n",
              "  <tbody>\n",
              "    <tr>\n",
              "      <th>0</th>\n",
              "      <td>(1, 2)</td>\n",
              "      <td>{2: 0.375, 3: 1.0, 5: 0.15, 10: 0.173}</td>\n",
              "    </tr>\n",
              "    <tr>\n",
              "      <th>1</th>\n",
              "      <td>(1, 6)</td>\n",
              "      <td>{17: 0.2, 2: 0.5, 3: 1.0, 5: 0.2, 15: 0.207}</td>\n",
              "    </tr>\n",
              "    <tr>\n",
              "      <th>2</th>\n",
              "      <td>(2, 6)</td>\n",
              "      <td>{17: 0.05, 3: 1.0, 5: 250000001.0, 10: 0.058, ...</td>\n",
              "    </tr>\n",
              "  </tbody>\n",
              "</table>\n",
              "</div>"
            ],
            "text/plain": [
              "  user1_user2                            influence_probabilities\n",
              "0      (1, 2)             {2: 0.375, 3: 1.0, 5: 0.15, 10: 0.173}\n",
              "1      (1, 6)       {17: 0.2, 2: 0.5, 3: 1.0, 5: 0.2, 15: 0.207}\n",
              "2      (2, 6)  {17: 0.05, 3: 1.0, 5: 250000001.0, 10: 0.058, ..."
            ]
          },
          "metadata": {
            "tags": []
          },
          "execution_count": 142
        }
      ]
    },
    {
      "cell_type": "code",
      "metadata": {
        "id": "QYhPOiuZm17d",
        "colab_type": "code",
        "colab": {
          "base_uri": "https://localhost:8080/",
          "height": 173
        },
        "outputId": "ad622e7c-6047-4415-a032-b77621dfdaa8"
      },
      "source": [
        "rat_df"
      ],
      "execution_count": 133,
      "outputs": [
        {
          "output_type": "execute_result",
          "data": {
            "text/html": [
              "<div>\n",
              "<style scoped>\n",
              "    .dataframe tbody tr th:only-of-type {\n",
              "        vertical-align: middle;\n",
              "    }\n",
              "\n",
              "    .dataframe tbody tr th {\n",
              "        vertical-align: top;\n",
              "    }\n",
              "\n",
              "    .dataframe thead th {\n",
              "        text-align: right;\n",
              "    }\n",
              "</style>\n",
              "<table border=\"1\" class=\"dataframe\">\n",
              "  <thead>\n",
              "    <tr style=\"text-align: right;\">\n",
              "      <th></th>\n",
              "      <th>ratings</th>\n",
              "    </tr>\n",
              "    <tr>\n",
              "      <th>user_id</th>\n",
              "      <th></th>\n",
              "    </tr>\n",
              "  </thead>\n",
              "  <tbody>\n",
              "    <tr>\n",
              "      <th>1</th>\n",
              "      <td>{2: 2.0, 3: 3.0}</td>\n",
              "    </tr>\n",
              "    <tr>\n",
              "      <th>2</th>\n",
              "      <td>{3: 3.75, 5: 5.0, 10: 4.333}</td>\n",
              "    </tr>\n",
              "    <tr>\n",
              "      <th>6</th>\n",
              "      <td>{3: 4.0, 5: 5.0, 15: 4.833, 17: 5.0}</td>\n",
              "    </tr>\n",
              "  </tbody>\n",
              "</table>\n",
              "</div>"
            ],
            "text/plain": [
              "                                      ratings\n",
              "user_id                                      \n",
              "1                            {2: 2.0, 3: 3.0}\n",
              "2                {3: 3.75, 5: 5.0, 10: 4.333}\n",
              "6        {3: 4.0, 5: 5.0, 15: 4.833, 17: 5.0}"
            ]
          },
          "metadata": {
            "tags": []
          },
          "execution_count": 133
        }
      ]
    },
    {
      "cell_type": "code",
      "metadata": {
        "id": "dBr8zZIAnJio",
        "colab_type": "code",
        "colab": {
          "base_uri": "https://localhost:8080/",
          "height": 34
        },
        "outputId": "c3a3391f-0e68-4bf2-f3b6-4d5708fa8451"
      },
      "source": [
        ".2/1.33"
      ],
      "execution_count": 136,
      "outputs": [
        {
          "output_type": "execute_result",
          "data": {
            "text/plain": [
              "0.15037593984962405"
            ]
          },
          "metadata": {
            "tags": []
          },
          "execution_count": 136
        }
      ]
    }
  ]
}