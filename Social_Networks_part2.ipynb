{
  "nbformat": 4,
  "nbformat_minor": 0,
  "metadata": {
    "colab": {
      "name": "Social_Networks_2_Github.ipynb",
      "provenance": [],
      "toc_visible": true,
      "mount_file_id": "13IqiUfHMJTvoCdtJvFcP5eCIhhdVMsmB",
      "authorship_tag": "ABX9TyN6trDaE2IngRWVmfYgXWe6",
      "include_colab_link": true
    },
    "kernelspec": {
      "name": "python3",
      "display_name": "Python 3"
    }
  },
  "cells": [
    {
      "cell_type": "markdown",
      "metadata": {
        "id": "view-in-github",
        "colab_type": "text"
      },
      "source": [
        "<a href=\"https://colab.research.google.com/github/contribcode/social_networks_theory_and_practice/blob/master/Social_Networks_part2.ipynb\" target=\"_parent\"><img src=\"https://colab.research.google.com/assets/colab-badge.svg\" alt=\"Open In Colab\"/></a>"
      ]
    },
    {
      "cell_type": "markdown",
      "metadata": {
        "id": "qLV-Wna4yhQA",
        "colab_type": "text"
      },
      "source": [
        "# imports"
      ]
    },
    {
      "cell_type": "code",
      "metadata": {
        "id": "z6UvJ6kiyLuO",
        "colab_type": "code",
        "colab": {}
      },
      "source": [
        "import random\n",
        "import math\n",
        "#from itertools import combinations\n",
        "\n",
        "import numpy as np\n",
        "float_formatter = lambda x: \"%.3f\" % x\n",
        "np.set_printoptions(formatter={'float_kind':float_formatter})\n",
        "\n",
        "import pandas as pd\n",
        "\n",
        "import networkx as nx"
      ],
      "execution_count": 0,
      "outputs": []
    },
    {
      "cell_type": "markdown",
      "metadata": {
        "id": "cO2dqJV95GoY",
        "colab_type": "text"
      },
      "source": [
        "# graph & subgraph"
      ]
    },
    {
      "cell_type": "code",
      "metadata": {
        "id": "mgd82L21yk72",
        "colab_type": "code",
        "colab": {}
      },
      "source": [
        "graph = pd.read_csv('/content/drive/My Drive/Social Networks/trust.txt',\n",
        "                    names=['user_1', 'user_2'],\n",
        "                    delim_whitespace=True)\n",
        "\n",
        "graph = graph.astype({'user_1': 'int32', 'user_2': 'int32'})"
      ],
      "execution_count": 0,
      "outputs": []
    },
    {
      "cell_type": "code",
      "metadata": {
        "id": "_UJd7KeY3jQx",
        "colab_type": "code",
        "outputId": "a986b756-29cd-4fc1-a116-19c7ce067957",
        "colab": {
          "base_uri": "https://localhost:8080/",
          "height": 204
        }
      },
      "source": [
        "graph.head()\n"
      ],
      "execution_count": 0,
      "outputs": [
        {
          "output_type": "execute_result",
          "data": {
            "text/html": [
              "<div>\n",
              "<style scoped>\n",
              "    .dataframe tbody tr th:only-of-type {\n",
              "        vertical-align: middle;\n",
              "    }\n",
              "\n",
              "    .dataframe tbody tr th {\n",
              "        vertical-align: top;\n",
              "    }\n",
              "\n",
              "    .dataframe thead th {\n",
              "        text-align: right;\n",
              "    }\n",
              "</style>\n",
              "<table border=\"1\" class=\"dataframe\">\n",
              "  <thead>\n",
              "    <tr style=\"text-align: right;\">\n",
              "      <th></th>\n",
              "      <th>user_1</th>\n",
              "      <th>user_2</th>\n",
              "    </tr>\n",
              "  </thead>\n",
              "  <tbody>\n",
              "    <tr>\n",
              "      <th>0</th>\n",
              "      <td>9831</td>\n",
              "      <td>19832</td>\n",
              "    </tr>\n",
              "    <tr>\n",
              "      <th>1</th>\n",
              "      <td>9831</td>\n",
              "      <td>4247</td>\n",
              "    </tr>\n",
              "    <tr>\n",
              "      <th>2</th>\n",
              "      <td>9831</td>\n",
              "      <td>7375</td>\n",
              "    </tr>\n",
              "    <tr>\n",
              "      <th>3</th>\n",
              "      <td>9831</td>\n",
              "      <td>15698</td>\n",
              "    </tr>\n",
              "    <tr>\n",
              "      <th>4</th>\n",
              "      <td>9831</td>\n",
              "      <td>8604</td>\n",
              "    </tr>\n",
              "  </tbody>\n",
              "</table>\n",
              "</div>"
            ],
            "text/plain": [
              "   user_1  user_2\n",
              "0    9831   19832\n",
              "1    9831    4247\n",
              "2    9831    7375\n",
              "3    9831   15698\n",
              "4    9831    8604"
            ]
          },
          "metadata": {
            "tags": []
          },
          "execution_count": 3
        }
      ]
    },
    {
      "cell_type": "markdown",
      "metadata": {
        "id": "ZZGpH6fH4_lH",
        "colab_type": "text"
      },
      "source": [
        "number of users"
      ]
    },
    {
      "cell_type": "code",
      "metadata": {
        "id": "OXYU3s_h85Nm",
        "colab_type": "code",
        "outputId": "d675c19c-9aee-4fac-ea42-0dd98dcbc584",
        "colab": {
          "base_uri": "https://localhost:8080/",
          "height": 235
        }
      },
      "source": [
        "users_df = pd.DataFrame()\n",
        "users_df['user2_list'] = graph.groupby('user_1', sort=False).user_2.apply(list)\n",
        "users_df['user2_nb'] = users_df.user2_list.apply(len)\n",
        "users_df.head()"
      ],
      "execution_count": 3,
      "outputs": [
        {
          "output_type": "execute_result",
          "data": {
            "text/html": [
              "<div>\n",
              "<style scoped>\n",
              "    .dataframe tbody tr th:only-of-type {\n",
              "        vertical-align: middle;\n",
              "    }\n",
              "\n",
              "    .dataframe tbody tr th {\n",
              "        vertical-align: top;\n",
              "    }\n",
              "\n",
              "    .dataframe thead th {\n",
              "        text-align: right;\n",
              "    }\n",
              "</style>\n",
              "<table border=\"1\" class=\"dataframe\">\n",
              "  <thead>\n",
              "    <tr style=\"text-align: right;\">\n",
              "      <th></th>\n",
              "      <th>user2_list</th>\n",
              "      <th>user2_nb</th>\n",
              "    </tr>\n",
              "    <tr>\n",
              "      <th>user_1</th>\n",
              "      <th></th>\n",
              "      <th></th>\n",
              "    </tr>\n",
              "  </thead>\n",
              "  <tbody>\n",
              "    <tr>\n",
              "      <th>9831</th>\n",
              "      <td>[19832, 4247, 7375, 15698, 8604, 6823, 4076, 2...</td>\n",
              "      <td>293</td>\n",
              "    </tr>\n",
              "    <tr>\n",
              "      <th>5369</th>\n",
              "      <td>[5493, 12037, 15442, 796, 9222, 9140, 19885, 1...</td>\n",
              "      <td>158</td>\n",
              "    </tr>\n",
              "    <tr>\n",
              "      <th>6876</th>\n",
              "      <td>[9597, 12038, 4874, 20830, 3688, 11561, 8587, ...</td>\n",
              "      <td>113</td>\n",
              "    </tr>\n",
              "    <tr>\n",
              "      <th>2760</th>\n",
              "      <td>[6867, 9738, 21552, 14526, 5323, 9140, 2318, 1...</td>\n",
              "      <td>330</td>\n",
              "    </tr>\n",
              "    <tr>\n",
              "      <th>20240</th>\n",
              "      <td>[4076, 7307, 3635, 798, 19950, 333, 3167, 8406...</td>\n",
              "      <td>300</td>\n",
              "    </tr>\n",
              "  </tbody>\n",
              "</table>\n",
              "</div>"
            ],
            "text/plain": [
              "                                               user2_list  user2_nb\n",
              "user_1                                                             \n",
              "9831    [19832, 4247, 7375, 15698, 8604, 6823, 4076, 2...       293\n",
              "5369    [5493, 12037, 15442, 796, 9222, 9140, 19885, 1...       158\n",
              "6876    [9597, 12038, 4874, 20830, 3688, 11561, 8587, ...       113\n",
              "2760    [6867, 9738, 21552, 14526, 5323, 9140, 2318, 1...       330\n",
              "20240   [4076, 7307, 3635, 798, 19950, 333, 3167, 8406...       300"
            ]
          },
          "metadata": {
            "tags": []
          },
          "execution_count": 3
        }
      ]
    },
    {
      "cell_type": "code",
      "metadata": {
        "id": "sL_izIrGDNxU",
        "colab_type": "code",
        "outputId": "4b056952-a042-4906-de7c-469965da8adf",
        "colab": {
          "base_uri": "https://localhost:8080/",
          "height": 282
        }
      },
      "source": [
        "users_df.user2_nb.hist()"
      ],
      "execution_count": 0,
      "outputs": [
        {
          "output_type": "execute_result",
          "data": {
            "text/plain": [
              "<matplotlib.axes._subplots.AxesSubplot at 0x7f86f75f5470>"
            ]
          },
          "metadata": {
            "tags": []
          },
          "execution_count": 5
        },
        {
          "output_type": "display_data",
          "data": {
            "image/png": "[encoded data removed]",
            "text/plain": [
              "<Figure size 432x288 with 1 Axes>"
            ]
          },
          "metadata": {
            "tags": [],
            "needs_background": "light"
          }
        }
      ]
    },
    {
      "cell_type": "code",
      "metadata": {
        "id": "RxQ3I99ZDsdc",
        "colab_type": "code",
        "outputId": "3a7d896f-9032-4e8e-fd33-08fc33ce9652",
        "colab": {
          "base_uri": "https://localhost:8080/",
          "height": 34
        }
      },
      "source": [
        "users_df.user2_nb.max()"
      ],
      "execution_count": 0,
      "outputs": [
        {
          "output_type": "execute_result",
          "data": {
            "text/plain": [
              "1552"
            ]
          },
          "metadata": {
            "tags": []
          },
          "execution_count": 6
        }
      ]
    },
    {
      "cell_type": "code",
      "metadata": {
        "id": "Qwmq7K7WEWv9",
        "colab_type": "code",
        "outputId": "7c4e9a93-95ae-4b90-ed60-3161e6acefef",
        "colab": {
          "base_uri": "https://localhost:8080/",
          "height": 700
        }
      },
      "source": [
        "users_df.sort_values(by=['user2_nb'], ascending=False)[:20]"
      ],
      "execution_count": 0,
      "outputs": [
        {
          "output_type": "execute_result",
          "data": {
            "text/html": [
              "<div>\n",
              "<style scoped>\n",
              "    .dataframe tbody tr th:only-of-type {\n",
              "        vertical-align: middle;\n",
              "    }\n",
              "\n",
              "    .dataframe tbody tr th {\n",
              "        vertical-align: top;\n",
              "    }\n",
              "\n",
              "    .dataframe thead th {\n",
              "        text-align: right;\n",
              "    }\n",
              "</style>\n",
              "<table border=\"1\" class=\"dataframe\">\n",
              "  <thead>\n",
              "    <tr style=\"text-align: right;\">\n",
              "      <th></th>\n",
              "      <th>user2_list</th>\n",
              "      <th>user2_nb</th>\n",
              "    </tr>\n",
              "    <tr>\n",
              "      <th>user_1</th>\n",
              "      <th></th>\n",
              "      <th></th>\n",
              "    </tr>\n",
              "  </thead>\n",
              "  <tbody>\n",
              "    <tr>\n",
              "      <th>14547</th>\n",
              "      <td>[21301, 7595, 17694, 20830, 5860, 21722, 20378...</td>\n",
              "      <td>1552</td>\n",
              "    </tr>\n",
              "    <tr>\n",
              "      <th>12804</th>\n",
              "      <td>[21359, 6162, 17485, 5636, 8225, 21863, 9083, ...</td>\n",
              "      <td>1215</td>\n",
              "    </tr>\n",
              "    <tr>\n",
              "      <th>14309</th>\n",
              "      <td>[11936, 15249, 3315, 10885, 17043, 12361, 1135...</td>\n",
              "      <td>999</td>\n",
              "    </tr>\n",
              "    <tr>\n",
              "      <th>3426</th>\n",
              "      <td>[19878, 9071, 21722, 19016, 9248, 7156, 3485, ...</td>\n",
              "      <td>828</td>\n",
              "    </tr>\n",
              "    <tr>\n",
              "      <th>19837</th>\n",
              "      <td>[19837, 15626, 6143, 5095, 20782, 5168, 7149, ...</td>\n",
              "      <td>828</td>\n",
              "    </tr>\n",
              "    <tr>\n",
              "      <th>18620</th>\n",
              "      <td>[19950, 5912, 8604, 4347, 12370, 14325, 16058,...</td>\n",
              "      <td>813</td>\n",
              "    </tr>\n",
              "    <tr>\n",
              "      <th>22145</th>\n",
              "      <td>[12141, 15625, 11496, 3202, 50, 7432, 15234, 1...</td>\n",
              "      <td>745</td>\n",
              "    </tr>\n",
              "    <tr>\n",
              "      <th>2742</th>\n",
              "      <td>[21249, 21007, 12037, 15373, 1567, 13237, 7479...</td>\n",
              "      <td>714</td>\n",
              "    </tr>\n",
              "    <tr>\n",
              "      <th>5670</th>\n",
              "      <td>[10757, 17493, 19672, 1896, 3635, 12783, 15422...</td>\n",
              "      <td>706</td>\n",
              "    </tr>\n",
              "    <tr>\n",
              "      <th>19191</th>\n",
              "      <td>[12151, 18282, 17090, 20157, 460, 15901, 13326...</td>\n",
              "      <td>699</td>\n",
              "    </tr>\n",
              "    <tr>\n",
              "      <th>3645</th>\n",
              "      <td>[3141, 10949, 10135, 1726, 12795, 15422, 3073,...</td>\n",
              "      <td>690</td>\n",
              "    </tr>\n",
              "    <tr>\n",
              "      <th>7064</th>\n",
              "      <td>[19128, 15796, 12567, 15373, 18791, 7693, 1099...</td>\n",
              "      <td>646</td>\n",
              "    </tr>\n",
              "    <tr>\n",
              "      <th>2072</th>\n",
              "      <td>[13237, 8587, 1425, 2106, 2461, 18056, 15442, ...</td>\n",
              "      <td>597</td>\n",
              "    </tr>\n",
              "    <tr>\n",
              "      <th>9261</th>\n",
              "      <td>[14386, 11061, 12342, 21552, 19911, 12308, 199...</td>\n",
              "      <td>574</td>\n",
              "    </tr>\n",
              "    <tr>\n",
              "      <th>8993</th>\n",
              "      <td>[1566, 10708, 9370, 10997, 4491, 20157, 20460,...</td>\n",
              "      <td>562</td>\n",
              "    </tr>\n",
              "    <tr>\n",
              "      <th>8532</th>\n",
              "      <td>[17694, 5912, 4555, 17047, 20639, 21301, 12111...</td>\n",
              "      <td>552</td>\n",
              "    </tr>\n",
              "    <tr>\n",
              "      <th>13567</th>\n",
              "      <td>[11584, 22038, 3420, 16322, 6803, 1726, 2458, ...</td>\n",
              "      <td>541</td>\n",
              "    </tr>\n",
              "    <tr>\n",
              "      <th>61</th>\n",
              "      <td>[19704, 6241, 13967, 19810, 2072, 6365, 11265,...</td>\n",
              "      <td>500</td>\n",
              "    </tr>\n",
              "    <tr>\n",
              "      <th>19885</th>\n",
              "      <td>[10819, 6823, 2023, 263, 7737, 9304, 1715, 198...</td>\n",
              "      <td>494</td>\n",
              "    </tr>\n",
              "    <tr>\n",
              "      <th>11810</th>\n",
              "      <td>[9426, 20278, 11212, 1732, 14333, 20785, 19990...</td>\n",
              "      <td>492</td>\n",
              "    </tr>\n",
              "  </tbody>\n",
              "</table>\n",
              "</div>"
            ],
            "text/plain": [
              "                                               user2_list  user2_nb\n",
              "user_1                                                             \n",
              "14547   [21301, 7595, 17694, 20830, 5860, 21722, 20378...      1552\n",
              "12804   [21359, 6162, 17485, 5636, 8225, 21863, 9083, ...      1215\n",
              "14309   [11936, 15249, 3315, 10885, 17043, 12361, 1135...       999\n",
              "3426    [19878, 9071, 21722, 19016, 9248, 7156, 3485, ...       828\n",
              "19837   [19837, 15626, 6143, 5095, 20782, 5168, 7149, ...       828\n",
              "18620   [19950, 5912, 8604, 4347, 12370, 14325, 16058,...       813\n",
              "22145   [12141, 15625, 11496, 3202, 50, 7432, 15234, 1...       745\n",
              "2742    [21249, 21007, 12037, 15373, 1567, 13237, 7479...       714\n",
              "5670    [10757, 17493, 19672, 1896, 3635, 12783, 15422...       706\n",
              "19191   [12151, 18282, 17090, 20157, 460, 15901, 13326...       699\n",
              "3645    [3141, 10949, 10135, 1726, 12795, 15422, 3073,...       690\n",
              "7064    [19128, 15796, 12567, 15373, 18791, 7693, 1099...       646\n",
              "2072    [13237, 8587, 1425, 2106, 2461, 18056, 15442, ...       597\n",
              "9261    [14386, 11061, 12342, 21552, 19911, 12308, 199...       574\n",
              "8993    [1566, 10708, 9370, 10997, 4491, 20157, 20460,...       562\n",
              "8532    [17694, 5912, 4555, 17047, 20639, 21301, 12111...       552\n",
              "13567   [11584, 22038, 3420, 16322, 6803, 1726, 2458, ...       541\n",
              "61      [19704, 6241, 13967, 19810, 2072, 6365, 11265,...       500\n",
              "19885   [10819, 6823, 2023, 263, 7737, 9304, 1715, 198...       494\n",
              "11810   [9426, 20278, 11212, 1732, 14333, 20785, 19990...       492"
            ]
          },
          "metadata": {
            "tags": []
          },
          "execution_count": 16
        }
      ]
    },
    {
      "cell_type": "code",
      "metadata": {
        "id": "Gv_KTwt75d4C",
        "colab_type": "code",
        "outputId": "9d6f13c5-6ca9-432e-b119-94dafcf86fe5",
        "colab": {
          "base_uri": "https://localhost:8080/",
          "height": 34
        }
      },
      "source": [
        "graph.user_1.unique().shape"
      ],
      "execution_count": 0,
      "outputs": [
        {
          "output_type": "execute_result",
          "data": {
            "text/plain": [
              "(15449,)"
            ]
          },
          "metadata": {
            "tags": []
          },
          "execution_count": 10
        }
      ]
    },
    {
      "cell_type": "code",
      "metadata": {
        "id": "JPo-soGs5rTq",
        "colab_type": "code",
        "outputId": "89e05aff-4b97-41f0-c114-6128a6cce35f",
        "colab": {
          "base_uri": "https://localhost:8080/",
          "height": 34
        }
      },
      "source": [
        "graph.user_2.unique().shape"
      ],
      "execution_count": 0,
      "outputs": [
        {
          "output_type": "execute_result",
          "data": {
            "text/plain": [
              "(15868,)"
            ]
          },
          "metadata": {
            "tags": []
          },
          "execution_count": 11
        }
      ]
    },
    {
      "cell_type": "markdown",
      "metadata": {
        "id": "iNQIjf8MICmv",
        "colab_type": "text"
      },
      "source": [
        "select 500 users"
      ]
    },
    {
      "cell_type": "code",
      "metadata": {
        "id": "UlE2EJR4Hkbb",
        "colab_type": "code",
        "outputId": "a70d198d-99e2-4337-cf4c-9782176d5f81",
        "colab": {
          "base_uri": "https://localhost:8080/",
          "height": 282
        }
      },
      "source": [
        "subgraph_nodes = users_df.index.tolist()[:500]\n",
        "users_df.loc[subgraph_nodes].user2_nb.hist()"
      ],
      "execution_count": 4,
      "outputs": [
        {
          "output_type": "execute_result",
          "data": {
            "text/plain": [
              "<matplotlib.axes._subplots.AxesSubplot at 0x7f60b49f9550>"
            ]
          },
          "metadata": {
            "tags": []
          },
          "execution_count": 4
        },
        {
          "output_type": "display_data",
          "data": {
            "image/png": "[encoded data removed]",
            "text/plain": [
              "<Figure size 432x288 with 1 Axes>"
            ]
          },
          "metadata": {
            "tags": [],
            "needs_background": "light"
          }
        }
      ]
    },
    {
      "cell_type": "code",
      "metadata": {
        "id": "vZ8CsSoRJUnW",
        "colab_type": "code",
        "outputId": "23e6968c-f86f-4872-e0ec-9d7f44afe1bc",
        "colab": {
          "base_uri": "https://localhost:8080/",
          "height": 282
        }
      },
      "source": [
        "idx = np.random.choice(users_df.shape[0], 500, replace=False)\n",
        "graph_nodes_rand = users_df.index.values[idx].tolist()\n",
        "users_df.loc[graph_nodes_rand].user2_nb.hist()"
      ],
      "execution_count": 0,
      "outputs": [
        {
          "output_type": "execute_result",
          "data": {
            "text/plain": [
              "<matplotlib.axes._subplots.AxesSubplot at 0x7fd9aca93358>"
            ]
          },
          "metadata": {
            "tags": []
          },
          "execution_count": 48
        },
        {
          "output_type": "display_data",
          "data": {
            "image/png": "[encoded data removed]",
            "text/plain": [
              "<Figure size 432x288 with 1 Axes>"
            ]
          },
          "metadata": {
            "tags": [],
            "needs_background": "light"
          }
        }
      ]
    },
    {
      "cell_type": "code",
      "metadata": {
        "id": "bSHiFO-8Ditf",
        "colab_type": "code",
        "outputId": "97330234-f11f-4af7-8d29-fb1f4c24bf35",
        "colab": {
          "base_uri": "https://localhost:8080/",
          "height": 142
        }
      },
      "source": [
        "'''\n",
        "graph[graph.isin({'user_1': al, 'user_2': al}).all(axis='columns')]\n",
        "'''"
      ],
      "execution_count": 0,
      "outputs": [
        {
          "output_type": "execute_result",
          "data": {
            "text/html": [
              "<div>\n",
              "<style scoped>\n",
              "    .dataframe tbody tr th:only-of-type {\n",
              "        vertical-align: middle;\n",
              "    }\n",
              "\n",
              "    .dataframe tbody tr th {\n",
              "        vertical-align: top;\n",
              "    }\n",
              "\n",
              "    .dataframe thead th {\n",
              "        text-align: right;\n",
              "    }\n",
              "</style>\n",
              "<table border=\"1\" class=\"dataframe\">\n",
              "  <thead>\n",
              "    <tr style=\"text-align: right;\">\n",
              "      <th></th>\n",
              "      <th>user_1</th>\n",
              "      <th>user_2</th>\n",
              "    </tr>\n",
              "  </thead>\n",
              "  <tbody>\n",
              "    <tr>\n",
              "      <th>73</th>\n",
              "      <td>9831</td>\n",
              "      <td>2831</td>\n",
              "    </tr>\n",
              "    <tr>\n",
              "      <th>30186</th>\n",
              "      <td>2831</td>\n",
              "      <td>9831</td>\n",
              "    </tr>\n",
              "    <tr>\n",
              "      <th>161835</th>\n",
              "      <td>7057</td>\n",
              "      <td>9831</td>\n",
              "    </tr>\n",
              "  </tbody>\n",
              "</table>\n",
              "</div>"
            ],
            "text/plain": [
              "        user_1  user_2\n",
              "73        9831    2831\n",
              "30186     2831    9831\n",
              "161835    7057    9831"
            ]
          },
          "metadata": {
            "tags": []
          },
          "execution_count": 33
        }
      ]
    },
    {
      "cell_type": "markdown",
      "metadata": {
        "id": "TM72_RcXVLQP",
        "colab_type": "text"
      },
      "source": [
        "**sub graph of 500 users**"
      ]
    },
    {
      "cell_type": "code",
      "metadata": {
        "id": "VPNsWUCTUo4z",
        "colab_type": "code",
        "colab": {}
      },
      "source": [
        "subgraph = graph[graph.user_1.isin(subgraph_nodes)]"
      ],
      "execution_count": 0,
      "outputs": []
    },
    {
      "cell_type": "code",
      "metadata": {
        "id": "Wltlmgo7WN6q",
        "colab_type": "code",
        "outputId": "64c8c58e-9fd1-476a-cea4-ecb421c9c355",
        "colab": {
          "base_uri": "https://localhost:8080/",
          "height": 34
        }
      },
      "source": [
        "subgraph.shape"
      ],
      "execution_count": 6,
      "outputs": [
        {
          "output_type": "execute_result",
          "data": {
            "text/plain": [
              "(66250, 2)"
            ]
          },
          "metadata": {
            "tags": []
          },
          "execution_count": 6
        }
      ]
    },
    {
      "cell_type": "code",
      "metadata": {
        "id": "cn7WWbDKWQPA",
        "colab_type": "code",
        "outputId": "06ae279f-bdf2-4e1c-d8c5-12f8583e21b0",
        "colab": {
          "base_uri": "https://localhost:8080/",
          "height": 34
        }
      },
      "source": [
        "subgraph.user_1.unique().shape"
      ],
      "execution_count": 7,
      "outputs": [
        {
          "output_type": "execute_result",
          "data": {
            "text/plain": [
              "(500,)"
            ]
          },
          "metadata": {
            "tags": []
          },
          "execution_count": 7
        }
      ]
    },
    {
      "cell_type": "markdown",
      "metadata": {
        "id": "BVgFVmOXIGEG",
        "colab_type": "text"
      },
      "source": [
        "# ratings"
      ]
    },
    {
      "cell_type": "code",
      "metadata": {
        "id": "IoIY195CIJcR",
        "colab_type": "code",
        "outputId": "ec24880d-092f-483b-ca7e-d01b4f1b1de1",
        "colab": {
          "base_uri": "https://localhost:8080/",
          "height": 204
        }
      },
      "source": [
        "rating_with_timestamp = pd.read_csv('/content/drive/My Drive/Social Networks/'\n",
        "                                    'rating_with_timestamp.txt',\n",
        "                                    names=['user_id', \n",
        "                                           'product_id', \n",
        "                                           'category_id', \n",
        "                                           'rating',\n",
        "                                           'helpfulness',\n",
        "                                           'time_stamp'],\n",
        "                                    delim_whitespace=True)\n",
        "\n",
        "rating_df = pd.DataFrame()\n",
        "rating_df = rating_with_timestamp[['user_id', 'category_id', 'rating']]\n",
        "rating_df = rating_df.astype({'user_id': 'int32',\n",
        "                              'category_id': 'int32',\n",
        "                              'rating': 'int32'})\n",
        "rating_df.head()"
      ],
      "execution_count": 8,
      "outputs": [
        {
          "output_type": "execute_result",
          "data": {
            "text/html": [
              "<div>\n",
              "<style scoped>\n",
              "    .dataframe tbody tr th:only-of-type {\n",
              "        vertical-align: middle;\n",
              "    }\n",
              "\n",
              "    .dataframe tbody tr th {\n",
              "        vertical-align: top;\n",
              "    }\n",
              "\n",
              "    .dataframe thead th {\n",
              "        text-align: right;\n",
              "    }\n",
              "</style>\n",
              "<table border=\"1\" class=\"dataframe\">\n",
              "  <thead>\n",
              "    <tr style=\"text-align: right;\">\n",
              "      <th></th>\n",
              "      <th>user_id</th>\n",
              "      <th>category_id</th>\n",
              "      <th>rating</th>\n",
              "    </tr>\n",
              "  </thead>\n",
              "  <tbody>\n",
              "    <tr>\n",
              "      <th>0</th>\n",
              "      <td>1</td>\n",
              "      <td>3</td>\n",
              "      <td>2</td>\n",
              "    </tr>\n",
              "    <tr>\n",
              "      <th>1</th>\n",
              "      <td>1</td>\n",
              "      <td>2</td>\n",
              "      <td>2</td>\n",
              "    </tr>\n",
              "    <tr>\n",
              "      <th>2</th>\n",
              "      <td>1</td>\n",
              "      <td>3</td>\n",
              "      <td>2</td>\n",
              "    </tr>\n",
              "    <tr>\n",
              "      <th>3</th>\n",
              "      <td>1</td>\n",
              "      <td>3</td>\n",
              "      <td>5</td>\n",
              "    </tr>\n",
              "    <tr>\n",
              "      <th>4</th>\n",
              "      <td>1</td>\n",
              "      <td>3</td>\n",
              "      <td>3</td>\n",
              "    </tr>\n",
              "  </tbody>\n",
              "</table>\n",
              "</div>"
            ],
            "text/plain": [
              "   user_id  category_id  rating\n",
              "0        1            3       2\n",
              "1        1            2       2\n",
              "2        1            3       2\n",
              "3        1            3       5\n",
              "4        1            3       3"
            ]
          },
          "metadata": {
            "tags": []
          },
          "execution_count": 8
        }
      ]
    },
    {
      "cell_type": "markdown",
      "metadata": {
        "id": "xou3tnQdd5wN",
        "colab_type": "text"
      },
      "source": [
        "mean rating for every user and category"
      ]
    },
    {
      "cell_type": "code",
      "metadata": {
        "id": "x-JsQxUYSMgp",
        "colab_type": "code",
        "outputId": "3a15cf23-87a1-466e-a7f6-d2fd3afd4be0",
        "colab": {
          "base_uri": "https://localhost:8080/",
          "height": 235
        }
      },
      "source": [
        "user_categoty_group_rating = \\\n",
        "  rating_df.groupby(['user_id', 'category_id']).mean()\n",
        "user_categoty_group_rating['rating'] = \\\n",
        "  user_categoty_group_rating.rating.apply(lambda v: round(v, 3))\n",
        "user_categoty_group_rating.head()"
      ],
      "execution_count": 9,
      "outputs": [
        {
          "output_type": "execute_result",
          "data": {
            "text/html": [
              "<div>\n",
              "<style scoped>\n",
              "    .dataframe tbody tr th:only-of-type {\n",
              "        vertical-align: middle;\n",
              "    }\n",
              "\n",
              "    .dataframe tbody tr th {\n",
              "        vertical-align: top;\n",
              "    }\n",
              "\n",
              "    .dataframe thead th {\n",
              "        text-align: right;\n",
              "    }\n",
              "</style>\n",
              "<table border=\"1\" class=\"dataframe\">\n",
              "  <thead>\n",
              "    <tr style=\"text-align: right;\">\n",
              "      <th></th>\n",
              "      <th></th>\n",
              "      <th>rating</th>\n",
              "    </tr>\n",
              "    <tr>\n",
              "      <th>user_id</th>\n",
              "      <th>category_id</th>\n",
              "      <th></th>\n",
              "    </tr>\n",
              "  </thead>\n",
              "  <tbody>\n",
              "    <tr>\n",
              "      <th rowspan=\"3\" valign=\"top\">1</th>\n",
              "      <th>2</th>\n",
              "      <td>2.000</td>\n",
              "    </tr>\n",
              "    <tr>\n",
              "      <th>3</th>\n",
              "      <td>2.750</td>\n",
              "    </tr>\n",
              "    <tr>\n",
              "      <th>11</th>\n",
              "      <td>4.000</td>\n",
              "    </tr>\n",
              "    <tr>\n",
              "      <th rowspan=\"2\" valign=\"top\">2</th>\n",
              "      <th>2</th>\n",
              "      <td>4.000</td>\n",
              "    </tr>\n",
              "    <tr>\n",
              "      <th>3</th>\n",
              "      <td>3.286</td>\n",
              "    </tr>\n",
              "  </tbody>\n",
              "</table>\n",
              "</div>"
            ],
            "text/plain": [
              "                     rating\n",
              "user_id category_id        \n",
              "1       2             2.000\n",
              "        3             2.750\n",
              "        11            4.000\n",
              "2       2             4.000\n",
              "        3             3.286"
            ]
          },
          "metadata": {
            "tags": []
          },
          "execution_count": 9
        }
      ]
    },
    {
      "cell_type": "code",
      "metadata": {
        "id": "vtQ4RHETAxUh",
        "colab_type": "code",
        "outputId": "d0964e9b-2b29-40a0-8d6f-9a582d46d04e",
        "colab": {
          "base_uri": "https://localhost:8080/",
          "height": 235
        }
      },
      "source": [
        "# get the values of the first level index (category_id)\n",
        "category_ids = user_categoty_group_rating.index.get_level_values('category_id')\n",
        "\n",
        "# set index just to user_id\n",
        "user_categoty_group_rating.index = \\\n",
        "  user_categoty_group_rating.index.get_level_values(0)\n",
        "\n",
        "# put the values of the index into a cilumn\n",
        "user_categoty_group_rating['category_id'] = category_ids\n",
        "\n",
        "# re-oreder coumn values\n",
        "user_categoty_group_rating = user_categoty_group_rating[['category_id', \n",
        "                                                         'rating']]\n",
        "user_categoty_group_rating.head()"
      ],
      "execution_count": 10,
      "outputs": [
        {
          "output_type": "execute_result",
          "data": {
            "text/html": [
              "<div>\n",
              "<style scoped>\n",
              "    .dataframe tbody tr th:only-of-type {\n",
              "        vertical-align: middle;\n",
              "    }\n",
              "\n",
              "    .dataframe tbody tr th {\n",
              "        vertical-align: top;\n",
              "    }\n",
              "\n",
              "    .dataframe thead th {\n",
              "        text-align: right;\n",
              "    }\n",
              "</style>\n",
              "<table border=\"1\" class=\"dataframe\">\n",
              "  <thead>\n",
              "    <tr style=\"text-align: right;\">\n",
              "      <th></th>\n",
              "      <th>category_id</th>\n",
              "      <th>rating</th>\n",
              "    </tr>\n",
              "    <tr>\n",
              "      <th>user_id</th>\n",
              "      <th></th>\n",
              "      <th></th>\n",
              "    </tr>\n",
              "  </thead>\n",
              "  <tbody>\n",
              "    <tr>\n",
              "      <th>1</th>\n",
              "      <td>2</td>\n",
              "      <td>2.000</td>\n",
              "    </tr>\n",
              "    <tr>\n",
              "      <th>1</th>\n",
              "      <td>3</td>\n",
              "      <td>2.750</td>\n",
              "    </tr>\n",
              "    <tr>\n",
              "      <th>1</th>\n",
              "      <td>11</td>\n",
              "      <td>4.000</td>\n",
              "    </tr>\n",
              "    <tr>\n",
              "      <th>2</th>\n",
              "      <td>2</td>\n",
              "      <td>4.000</td>\n",
              "    </tr>\n",
              "    <tr>\n",
              "      <th>2</th>\n",
              "      <td>3</td>\n",
              "      <td>3.286</td>\n",
              "    </tr>\n",
              "  </tbody>\n",
              "</table>\n",
              "</div>"
            ],
            "text/plain": [
              "         category_id  rating\n",
              "user_id                     \n",
              "1                  2   2.000\n",
              "1                  3   2.750\n",
              "1                 11   4.000\n",
              "2                  2   4.000\n",
              "2                  3   3.286"
            ]
          },
          "metadata": {
            "tags": []
          },
          "execution_count": 10
        }
      ]
    },
    {
      "cell_type": "code",
      "metadata": {
        "id": "lFWw8JhDIhiv",
        "colab_type": "code",
        "outputId": "f6db6e40-83e1-4f09-848c-bcbfc3113a3b",
        "colab": {
          "base_uri": "https://localhost:8080/",
          "height": 252
        }
      },
      "source": [
        "user_ratings = pd.DataFrame()\n",
        "user_ratings['ratings'] = \\\n",
        "  user_categoty_group_rating\\\n",
        "  .groupby('user_id')\\\n",
        "  .apply(lambda r: dict(zip(r['category_id'], r['rating'])))\n",
        "\n",
        "print(user_ratings.shape)\n",
        "user_ratings.head()"
      ],
      "execution_count": 11,
      "outputs": [
        {
          "output_type": "stream",
          "text": [
            "(22164, 1)\n"
          ],
          "name": "stdout"
        },
        {
          "output_type": "execute_result",
          "data": {
            "text/html": [
              "<div>\n",
              "<style scoped>\n",
              "    .dataframe tbody tr th:only-of-type {\n",
              "        vertical-align: middle;\n",
              "    }\n",
              "\n",
              "    .dataframe tbody tr th {\n",
              "        vertical-align: top;\n",
              "    }\n",
              "\n",
              "    .dataframe thead th {\n",
              "        text-align: right;\n",
              "    }\n",
              "</style>\n",
              "<table border=\"1\" class=\"dataframe\">\n",
              "  <thead>\n",
              "    <tr style=\"text-align: right;\">\n",
              "      <th></th>\n",
              "      <th>ratings</th>\n",
              "    </tr>\n",
              "    <tr>\n",
              "      <th>user_id</th>\n",
              "      <th></th>\n",
              "    </tr>\n",
              "  </thead>\n",
              "  <tbody>\n",
              "    <tr>\n",
              "      <th>1</th>\n",
              "      <td>{2: 2.0, 3: 2.75, 11: 4.0}</td>\n",
              "    </tr>\n",
              "    <tr>\n",
              "      <th>2</th>\n",
              "      <td>{2: 4.0, 3: 3.286, 4: 2.5, 5: 4.5, 10: 4.0, 11...</td>\n",
              "    </tr>\n",
              "    <tr>\n",
              "      <th>3</th>\n",
              "      <td>{1: 4.0, 2: 5.0, 9: 5.0, 10: 5.0, 11: 3.8, 13:...</td>\n",
              "    </tr>\n",
              "    <tr>\n",
              "      <th>4</th>\n",
              "      <td>{3: 4.0, 4: 3.0, 5: 4.111, 7: 3.0, 10: 3.5, 17...</td>\n",
              "    </tr>\n",
              "    <tr>\n",
              "      <th>5</th>\n",
              "      <td>{4: 4.5, 11: 5.0, 17: 5.0, 19: 4.0}</td>\n",
              "    </tr>\n",
              "  </tbody>\n",
              "</table>\n",
              "</div>"
            ],
            "text/plain": [
              "                                                   ratings\n",
              "user_id                                                   \n",
              "1                               {2: 2.0, 3: 2.75, 11: 4.0}\n",
              "2        {2: 4.0, 3: 3.286, 4: 2.5, 5: 4.5, 10: 4.0, 11...\n",
              "3        {1: 4.0, 2: 5.0, 9: 5.0, 10: 5.0, 11: 3.8, 13:...\n",
              "4        {3: 4.0, 4: 3.0, 5: 4.111, 7: 3.0, 10: 3.5, 17...\n",
              "5                      {4: 4.5, 11: 5.0, 17: 5.0, 19: 4.0}"
            ]
          },
          "metadata": {
            "tags": []
          },
          "execution_count": 11
        }
      ]
    },
    {
      "cell_type": "markdown",
      "metadata": {
        "id": "LutyEfJWrnXf",
        "colab_type": "text"
      },
      "source": [
        "# influence probabilities"
      ]
    },
    {
      "cell_type": "markdown",
      "metadata": {
        "id": "-83KjAQKrqdZ",
        "colab_type": "text"
      },
      "source": [
        "take out users that have no ratings\n"
      ]
    },
    {
      "cell_type": "code",
      "metadata": {
        "id": "4B5ceJSdknfp",
        "colab_type": "code",
        "colab": {}
      },
      "source": [
        "users_ratings_list = rating_df.user_id.unique().tolist()\n",
        "\n",
        "subgraph = subgraph[subgraph.isin(\n",
        "    {'user_1': users_ratings_list, 'user_2': users_ratings_list})\\\n",
        "    .all(axis='columns')]\n"
      ],
      "execution_count": 0,
      "outputs": []
    },
    {
      "cell_type": "code",
      "metadata": {
        "id": "VlSg-VOkR0n2",
        "colab_type": "code",
        "colab": {}
      },
      "source": [
        "def influence_probs(user_1, user_2):\n",
        "\n",
        "  infl_dict = dict()\n",
        "\n",
        "  # get ratings\n",
        "  ratings_user1 = user_ratings.loc[user_1].iloc[0]\n",
        "  ratings_user2 = user_ratings.loc[user_2].iloc[0]\n",
        "\n",
        "  # get categories that have rated\n",
        "  user1_categories = set(ratings_user1.keys())\n",
        "  user2_categories = set(ratings_user2.keys())\n",
        "\n",
        "  common_categories = user1_categories.intersection(user2_categories)\n",
        "\n",
        "  # if there are no common categories then there is no influence\n",
        "  if len(common_categories) == 0:\n",
        "    return infl_dict\n",
        "\n",
        "  # avoid division by zero\n",
        "  eps = 1e-06\n",
        "\n",
        "  # denominator\n",
        "  denom = 0\n",
        "  for cc in common_categories:\n",
        "    user1_rating = ratings_user1[cc]\n",
        "    user2_rating = ratings_user2[cc]\n",
        "    cat_diff = abs(user1_rating - user2_rating)\n",
        "    if cat_diff == 0:\n",
        "      denom += 1.0 / eps\n",
        "    else:\n",
        "      denom += 1.0 / cat_diff\n",
        "\n",
        "  # categories of both user_1 and user_2\n",
        "  categories = user1_categories.union(user2_categories)\n",
        "  # compute influence probability for every category\n",
        "  for c in categories:\n",
        "    if c in user1_categories:\n",
        "      usr1_rating = ratings_user1[c]\n",
        "    else:\n",
        "      usr1_rating = 0\n",
        "    if c in user2_categories:\n",
        "      usr2_rating = ratings_user2[c]\n",
        "    else:\n",
        "      usr2_rating = 0\n",
        "    numer = abs(usr1_rating - usr2_rating)\n",
        "    numer += eps\n",
        "    numer = 1.0 / numer\n",
        "    res = round(numer / denom, 3)\n",
        "    infl_dict[c] = res\n",
        "\n",
        "  return infl_dict"
      ],
      "execution_count": 0,
      "outputs": []
    },
    {
      "cell_type": "code",
      "metadata": {
        "id": "oseo1ba8iOhp",
        "colab_type": "code",
        "colab": {}
      },
      "source": [
        "subgraph['influence_probabilities'] =\\\n",
        "    subgraph.apply(lambda r: influence_probs(r.user_1, r.user_2), axis=1)"
      ],
      "execution_count": 0,
      "outputs": []
    },
    {
      "cell_type": "code",
      "metadata": {
        "id": "0dYVi8YNptf3",
        "colab_type": "code",
        "colab": {
          "base_uri": "https://localhost:8080/",
          "height": 204
        },
        "outputId": "02fa21c6-80d4-4bf4-8ae4-260faaf3c3d9"
      },
      "source": [
        "subgraph.head()"
      ],
      "execution_count": 15,
      "outputs": [
        {
          "output_type": "execute_result",
          "data": {
            "text/html": [
              "<div>\n",
              "<style scoped>\n",
              "    .dataframe tbody tr th:only-of-type {\n",
              "        vertical-align: middle;\n",
              "    }\n",
              "\n",
              "    .dataframe tbody tr th {\n",
              "        vertical-align: top;\n",
              "    }\n",
              "\n",
              "    .dataframe thead th {\n",
              "        text-align: right;\n",
              "    }\n",
              "</style>\n",
              "<table border=\"1\" class=\"dataframe\">\n",
              "  <thead>\n",
              "    <tr style=\"text-align: right;\">\n",
              "      <th></th>\n",
              "      <th>user_1</th>\n",
              "      <th>user_2</th>\n",
              "      <th>influence_probabilities</th>\n",
              "    </tr>\n",
              "  </thead>\n",
              "  <tbody>\n",
              "    <tr>\n",
              "      <th>0</th>\n",
              "      <td>9831</td>\n",
              "      <td>19832</td>\n",
              "      <td>{1: 0.014, 2: 0.014, 3: 0.07, 4: 0.014, 5: 0.0...</td>\n",
              "    </tr>\n",
              "    <tr>\n",
              "      <th>1</th>\n",
              "      <td>9831</td>\n",
              "      <td>4247</td>\n",
              "      <td>{1: 0.042, 2: 0.051, 4: 0.036, 7: 0.14, 8: 0.0...</td>\n",
              "    </tr>\n",
              "    <tr>\n",
              "      <th>2</th>\n",
              "      <td>9831</td>\n",
              "      <td>7375</td>\n",
              "      <td>{1: 0.0, 3: 0.0, 4: 0.0, 7: 0.0, 8: 0.0, 9: 0....</td>\n",
              "    </tr>\n",
              "    <tr>\n",
              "      <th>3</th>\n",
              "      <td>9831</td>\n",
              "      <td>15698</td>\n",
              "      <td>{1: 0.015, 3: 0.045, 4: 0.045, 7: 0.375, 8: 0....</td>\n",
              "    </tr>\n",
              "    <tr>\n",
              "      <th>4</th>\n",
              "      <td>9831</td>\n",
              "      <td>8604</td>\n",
              "      <td>{3: 0.045, 4: 0.144, 7: 0.128, 8: 0.173, 9: 0....</td>\n",
              "    </tr>\n",
              "  </tbody>\n",
              "</table>\n",
              "</div>"
            ],
            "text/plain": [
              "   user_1  user_2                            influence_probabilities\n",
              "0    9831   19832  {1: 0.014, 2: 0.014, 3: 0.07, 4: 0.014, 5: 0.0...\n",
              "1    9831    4247  {1: 0.042, 2: 0.051, 4: 0.036, 7: 0.14, 8: 0.0...\n",
              "2    9831    7375  {1: 0.0, 3: 0.0, 4: 0.0, 7: 0.0, 8: 0.0, 9: 0....\n",
              "3    9831   15698  {1: 0.015, 3: 0.045, 4: 0.045, 7: 0.375, 8: 0....\n",
              "4    9831    8604  {3: 0.045, 4: 0.144, 7: 0.128, 8: 0.173, 9: 0...."
            ]
          },
          "metadata": {
            "tags": []
          },
          "execution_count": 15
        }
      ]
    },
    {
      "cell_type": "markdown",
      "metadata": {
        "id": "mYPCF9uzrxjj",
        "colab_type": "text"
      },
      "source": [
        "# subset of categories"
      ]
    },
    {
      "cell_type": "code",
      "metadata": {
        "id": "hC0yM7OLtjEp",
        "colab_type": "code",
        "colab": {
          "base_uri": "https://localhost:8080/",
          "height": 493
        },
        "outputId": "e0794be3-90cb-460c-eb34-f1baadf7f337"
      },
      "source": [
        "rating_df.category_id.value_counts()"
      ],
      "execution_count": 16,
      "outputs": [
        {
          "output_type": "execute_result",
          "data": {
            "text/plain": [
              "3     167263\n",
              "4     102957\n",
              "5      85419\n",
              "19     85113\n",
              "10     61503\n",
              "18     55087\n",
              "11     48112\n",
              "2      45730\n",
              "7      45459\n",
              "8      45113\n",
              "1      41561\n",
              "9      33218\n",
              "15     22926\n",
              "17     21019\n",
              "12     12383\n",
              "22     10969\n",
              "6       8739\n",
              "14      6830\n",
              "21      6562\n",
              "13      5947\n",
              "16      5475\n",
              "20      3300\n",
              "25       808\n",
              "24       479\n",
              "23       269\n",
              "26        24\n",
              "27         2\n",
              "Name: category_id, dtype: int64"
            ]
          },
          "metadata": {
            "tags": []
          },
          "execution_count": 16
        }
      ]
    },
    {
      "cell_type": "code",
      "metadata": {
        "id": "eIdD2MLtsVGh",
        "colab_type": "code",
        "colab": {
          "base_uri": "https://localhost:8080/",
          "height": 34
        },
        "outputId": "61ccfa2c-6d89-4dfd-c5df-7ea94c9f868e"
      },
      "source": [
        "rating_df.category_id.value_counts().index.tolist()[:8]"
      ],
      "execution_count": 17,
      "outputs": [
        {
          "output_type": "execute_result",
          "data": {
            "text/plain": [
              "[3, 4, 5, 19, 10, 18, 11, 2]"
            ]
          },
          "metadata": {
            "tags": []
          },
          "execution_count": 17
        }
      ]
    },
    {
      "cell_type": "markdown",
      "metadata": {
        "id": "SleCZM5FtpfV",
        "colab_type": "text"
      },
      "source": [
        "# reliable set for a category"
      ]
    },
    {
      "cell_type": "code",
      "metadata": {
        "id": "LQGmeDDKtoTq",
        "colab_type": "code",
        "colab": {
          "base_uri": "https://localhost:8080/",
          "height": 204
        },
        "outputId": "8483f552-3489-43a0-8749-0c2688148fc4"
      },
      "source": [
        "category  = 10\n",
        "\n",
        "nb_probabilistic_graphs = 3\n",
        "majority = math.ceil(nb_probabilistic_graphs / 2)\n",
        "\n",
        "reliable_sets_category = pd.DataFrame()\n",
        "reliable_sets_category['user'] = subgraph.user_1.unique()\n",
        "reliable_sets_category.head()"
      ],
      "execution_count": 31,
      "outputs": [
        {
          "output_type": "execute_result",
          "data": {
            "text/html": [
              "<div>\n",
              "<style scoped>\n",
              "    .dataframe tbody tr th:only-of-type {\n",
              "        vertical-align: middle;\n",
              "    }\n",
              "\n",
              "    .dataframe tbody tr th {\n",
              "        vertical-align: top;\n",
              "    }\n",
              "\n",
              "    .dataframe thead th {\n",
              "        text-align: right;\n",
              "    }\n",
              "</style>\n",
              "<table border=\"1\" class=\"dataframe\">\n",
              "  <thead>\n",
              "    <tr style=\"text-align: right;\">\n",
              "      <th></th>\n",
              "      <th>user</th>\n",
              "    </tr>\n",
              "  </thead>\n",
              "  <tbody>\n",
              "    <tr>\n",
              "      <th>0</th>\n",
              "      <td>9831</td>\n",
              "    </tr>\n",
              "    <tr>\n",
              "      <th>1</th>\n",
              "      <td>5369</td>\n",
              "    </tr>\n",
              "    <tr>\n",
              "      <th>2</th>\n",
              "      <td>6876</td>\n",
              "    </tr>\n",
              "    <tr>\n",
              "      <th>3</th>\n",
              "      <td>2760</td>\n",
              "    </tr>\n",
              "    <tr>\n",
              "      <th>4</th>\n",
              "      <td>20240</td>\n",
              "    </tr>\n",
              "  </tbody>\n",
              "</table>\n",
              "</div>"
            ],
            "text/plain": [
              "    user\n",
              "0   9831\n",
              "1   5369\n",
              "2   6876\n",
              "3   2760\n",
              "4  20240"
            ]
          },
          "metadata": {
            "tags": []
          },
          "execution_count": 31
        }
      ]
    },
    {
      "cell_type": "code",
      "metadata": {
        "id": "sl_QI1GlvsNp",
        "colab_type": "code",
        "colab": {
          "base_uri": "https://localhost:8080/",
          "height": 204
        },
        "outputId": "1f6e130d-3d11-4809-a0f9-9111073db0e6"
      },
      "source": [
        "subgraph.head()"
      ],
      "execution_count": 19,
      "outputs": [
        {
          "output_type": "execute_result",
          "data": {
            "text/html": [
              "<div>\n",
              "<style scoped>\n",
              "    .dataframe tbody tr th:only-of-type {\n",
              "        vertical-align: middle;\n",
              "    }\n",
              "\n",
              "    .dataframe tbody tr th {\n",
              "        vertical-align: top;\n",
              "    }\n",
              "\n",
              "    .dataframe thead th {\n",
              "        text-align: right;\n",
              "    }\n",
              "</style>\n",
              "<table border=\"1\" class=\"dataframe\">\n",
              "  <thead>\n",
              "    <tr style=\"text-align: right;\">\n",
              "      <th></th>\n",
              "      <th>user_1</th>\n",
              "      <th>user_2</th>\n",
              "      <th>influence_probabilities</th>\n",
              "    </tr>\n",
              "  </thead>\n",
              "  <tbody>\n",
              "    <tr>\n",
              "      <th>0</th>\n",
              "      <td>9831</td>\n",
              "      <td>19832</td>\n",
              "      <td>{1: 0.014, 2: 0.014, 3: 0.07, 4: 0.014, 5: 0.0...</td>\n",
              "    </tr>\n",
              "    <tr>\n",
              "      <th>1</th>\n",
              "      <td>9831</td>\n",
              "      <td>4247</td>\n",
              "      <td>{1: 0.042, 2: 0.051, 4: 0.036, 7: 0.14, 8: 0.0...</td>\n",
              "    </tr>\n",
              "    <tr>\n",
              "      <th>2</th>\n",
              "      <td>9831</td>\n",
              "      <td>7375</td>\n",
              "      <td>{1: 0.0, 3: 0.0, 4: 0.0, 7: 0.0, 8: 0.0, 9: 0....</td>\n",
              "    </tr>\n",
              "    <tr>\n",
              "      <th>3</th>\n",
              "      <td>9831</td>\n",
              "      <td>15698</td>\n",
              "      <td>{1: 0.015, 3: 0.045, 4: 0.045, 7: 0.375, 8: 0....</td>\n",
              "    </tr>\n",
              "    <tr>\n",
              "      <th>4</th>\n",
              "      <td>9831</td>\n",
              "      <td>8604</td>\n",
              "      <td>{3: 0.045, 4: 0.144, 7: 0.128, 8: 0.173, 9: 0....</td>\n",
              "    </tr>\n",
              "  </tbody>\n",
              "</table>\n",
              "</div>"
            ],
            "text/plain": [
              "   user_1  user_2                            influence_probabilities\n",
              "0    9831   19832  {1: 0.014, 2: 0.014, 3: 0.07, 4: 0.014, 5: 0.0...\n",
              "1    9831    4247  {1: 0.042, 2: 0.051, 4: 0.036, 7: 0.14, 8: 0.0...\n",
              "2    9831    7375  {1: 0.0, 3: 0.0, 4: 0.0, 7: 0.0, 8: 0.0, 9: 0....\n",
              "3    9831   15698  {1: 0.015, 3: 0.045, 4: 0.045, 7: 0.375, 8: 0....\n",
              "4    9831    8604  {3: 0.045, 4: 0.144, 7: 0.128, 8: 0.173, 9: 0...."
            ]
          },
          "metadata": {
            "tags": []
          },
          "execution_count": 19
        }
      ]
    },
    {
      "cell_type": "markdown",
      "metadata": {
        "id": "JUWEg6ifxcHc",
        "colab_type": "text"
      },
      "source": [
        "## create T probabilistic graphs"
      ]
    },
    {
      "cell_type": "code",
      "metadata": {
        "id": "JS1ZNzA93JYb",
        "colab_type": "code",
        "colab": {}
      },
      "source": [
        "def keep_edge(influence_probabilities, category):\n",
        "  rnd_nb = random.uniform(0, 1)\n",
        "  if influence_probabilities[category] >= rnd_nb:\n",
        "    return True\n",
        "  else:\n",
        "    return False"
      ],
      "execution_count": 0,
      "outputs": []
    },
    {
      "cell_type": "code",
      "metadata": {
        "id": "ymlPagc2xaC7",
        "colab_type": "code",
        "colab": {
          "base_uri": "https://localhost:8080/",
          "height": 119
        },
        "outputId": "41d6475b-729b-4e30-9f92-957e4c13595e"
      },
      "source": [
        "probabilistic_graphs_list = list()\n",
        "\n",
        "for idx in range(nb_probabilistic_graphs):\n",
        "\n",
        "  subgraph_category = subgraph[subgraph\\\n",
        "                               .influence_probabilities\\\n",
        "                               .apply(lambda v: category in v.keys())]\n",
        "\n",
        "  subgraph_category['keep_edge'] = subgraph_category.apply(\n",
        "      lambda r: keep_edge(r.influence_probabilities, category), axis=1)\n",
        "  \n",
        "  subgraph_category = subgraph_category[subgraph_category.keep_edge]\n",
        "\n",
        "  probabilistic_graphs_list.append(subgraph_category)"
      ],
      "execution_count": 17,
      "outputs": [
        {
          "output_type": "stream",
          "text": [
            "/usr/local/lib/python3.6/dist-packages/ipykernel_launcher.py:8: SettingWithCopyWarning: \n",
            "A value is trying to be set on a copy of a slice from a DataFrame.\n",
            "Try using .loc[row_indexer,col_indexer] = value instead\n",
            "\n",
            "See the caveats in the documentation: https://pandas.pydata.org/pandas-docs/stable/user_guide/indexing.html#returning-a-view-versus-a-copy\n",
            "  \n"
          ],
          "name": "stderr"
        }
      ]
    },
    {
      "cell_type": "markdown",
      "metadata": {
        "id": "FEnTUUYqKmFM",
        "colab_type": "text"
      },
      "source": [
        "create nx graphs from read edges"
      ]
    },
    {
      "cell_type": "code",
      "metadata": {
        "id": "McFC-3z_Klkp",
        "colab_type": "code",
        "colab": {}
      },
      "source": [
        "probabilistic_graphs = list()\n",
        "\n",
        "nodes_list = reliable_sets_category.user.values.tolist()\n",
        "\n",
        "for pg in probabilistic_graphs_list:\n",
        "\n",
        "  p_graph = nx.DiGraph()\n",
        "  p_graph.add_nodes_from(nodes_list)\n",
        "  p_graph.add_edges_from(list(zip(pg['user_1'], pg['user_2'])))\n",
        "\n",
        "  probabilistic_graphs.append(p_graph)"
      ],
      "execution_count": 0,
      "outputs": []
    },
    {
      "cell_type": "markdown",
      "metadata": {
        "id": "vNQvMhsP9b2y",
        "colab_type": "text"
      },
      "source": [
        "## reliable set for each node"
      ]
    },
    {
      "cell_type": "code",
      "metadata": {
        "id": "QyvYNmolFj-t",
        "colab_type": "code",
        "colab": {}
      },
      "source": [
        "def user_reliable_set(user):\n",
        "\n",
        "  # count how many nodes does this node reach\n",
        "  nodes_reached_dict = dict()\n",
        "\n",
        "  # for every probabilistic graph\n",
        "  for idx in range(len(probabilistic_graphs)):\n",
        "\n",
        "    probabilistic_graph = probabilistic_graphs[idx]\n",
        "\n",
        "    nodes_reached = list(nx.dfs_preorder_nodes(probabilistic_graph,source=user))\n",
        "\n",
        "    for nd in nodes_reached:\n",
        "      if nd in nodes_reached_dict:\n",
        "        nodes_reached_dict[nd] += 1\n",
        "      else:\n",
        "        nodes_reached_dict[nd] = 1\n",
        "\n",
        "  temp_dict = {k:v for k, v in nodes_reached_dict.items() if v >= majority}\n",
        "  nodes_reached_dict = temp_dict\n",
        "\n",
        "  return nodes_reached_dict"
      ],
      "execution_count": 0,
      "outputs": []
    },
    {
      "cell_type": "code",
      "metadata": {
        "id": "aVr7D2ymQlwR",
        "colab_type": "code",
        "colab": {}
      },
      "source": [
        "reliable_sets_category['reliable_set'] = reliable_sets_category.user.apply(user_reliable_set)"
      ],
      "execution_count": 0,
      "outputs": []
    },
    {
      "cell_type": "code",
      "metadata": {
        "id": "SiW3yVG62hS7",
        "colab_type": "code",
        "colab": {
          "base_uri": "https://localhost:8080/",
          "height": 204
        },
        "outputId": "bffe851f-4bb4-44ae-cdaf-075835698dcd"
      },
      "source": [
        "reliable_sets_category.head()"
      ],
      "execution_count": 33,
      "outputs": [
        {
          "output_type": "execute_result",
          "data": {
            "text/html": [
              "<div>\n",
              "<style scoped>\n",
              "    .dataframe tbody tr th:only-of-type {\n",
              "        vertical-align: middle;\n",
              "    }\n",
              "\n",
              "    .dataframe tbody tr th {\n",
              "        vertical-align: top;\n",
              "    }\n",
              "\n",
              "    .dataframe thead th {\n",
              "        text-align: right;\n",
              "    }\n",
              "</style>\n",
              "<table border=\"1\" class=\"dataframe\">\n",
              "  <thead>\n",
              "    <tr style=\"text-align: right;\">\n",
              "      <th></th>\n",
              "      <th>user</th>\n",
              "      <th>reliable_set</th>\n",
              "    </tr>\n",
              "  </thead>\n",
              "  <tbody>\n",
              "    <tr>\n",
              "      <th>0</th>\n",
              "      <td>9831</td>\n",
              "      <td>{9831: 3, 18724: 3, 16058: 3, 5710: 3, 9597: 3...</td>\n",
              "    </tr>\n",
              "    <tr>\n",
              "      <th>1</th>\n",
              "      <td>5369</td>\n",
              "      <td>{5369: 3, 8890: 2, 10635: 2, 15393: 2, 5493: 2...</td>\n",
              "    </tr>\n",
              "    <tr>\n",
              "      <th>2</th>\n",
              "      <td>6876</td>\n",
              "      <td>{6876: 3, 19950: 3, 12409: 3, 6137: 3, 17742: ...</td>\n",
              "    </tr>\n",
              "    <tr>\n",
              "      <th>3</th>\n",
              "      <td>2760</td>\n",
              "      <td>{2760: 3, 10308: 3, 20727: 3, 796: 3, 11477: 3...</td>\n",
              "    </tr>\n",
              "    <tr>\n",
              "      <th>4</th>\n",
              "      <td>20240</td>\n",
              "      <td>{20240: 3, 4076: 3, 1464: 3, 12036: 3, 15556: ...</td>\n",
              "    </tr>\n",
              "  </tbody>\n",
              "</table>\n",
              "</div>"
            ],
            "text/plain": [
              "    user                                       reliable_set\n",
              "0   9831  {9831: 3, 18724: 3, 16058: 3, 5710: 3, 9597: 3...\n",
              "1   5369  {5369: 3, 8890: 2, 10635: 2, 15393: 2, 5493: 2...\n",
              "2   6876  {6876: 3, 19950: 3, 12409: 3, 6137: 3, 17742: ...\n",
              "3   2760  {2760: 3, 10308: 3, 20727: 3, 796: 3, 11477: 3...\n",
              "4  20240  {20240: 3, 4076: 3, 1464: 3, 12036: 3, 15556: ..."
            ]
          },
          "metadata": {
            "tags": []
          },
          "execution_count": 33
        }
      ]
    }
  ]
}