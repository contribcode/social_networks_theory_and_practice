{
  "nbformat": 4,
  "nbformat_minor": 0,
  "metadata": {
    "colab": {
      "name": "part_2.ipynb",
      "provenance": [],
      "toc_visible": true,
      "mount_file_id": "1TMonMOr2ky0zI8bMdZdM-ZVNFRV9JqtZ",
      "authorship_tag": "ABX9TyOLhvd4vSSw3mDiG3mO00d/",
      "include_colab_link": true
    },
    "kernelspec": {
      "name": "python3",
      "display_name": "Python 3"
    },
    "accelerator": "GPU"
  },
  "cells": [
    {
      "cell_type": "markdown",
      "metadata": {
        "id": "view-in-github",
        "colab_type": "text"
      },
      "source": [
        "<a href=\"https://colab.research.google.com/github/contribcode/social_networks_theory_and_practice/blob/master/part_2.ipynb\" target=\"_parent\"><img src=\"https://colab.research.google.com/assets/colab-badge.svg\" alt=\"Open In Colab\"/></a>"
      ]
    },
    {
      "cell_type": "markdown",
      "metadata": {
        "id": "qLV-Wna4yhQA",
        "colab_type": "text"
      },
      "source": [
        "# imports"
      ]
    },
    {
      "cell_type": "code",
      "metadata": {
        "id": "z6UvJ6kiyLuO",
        "colab_type": "code",
        "colab": {}
      },
      "source": [
        "import random\n",
        "import math\n",
        "from itertools import product\n",
        "from itertools import combinations\n",
        "import pickle\n",
        "\n",
        "import numpy as np\n",
        "float_formatter = lambda x: \"%.3f\" % x\n",
        "np.set_printoptions(formatter={'float_kind':float_formatter})\n",
        "\n",
        "import pandas as pd\n",
        "\n",
        "import networkx as nx"
      ],
      "execution_count": 1,
      "outputs": []
    },
    {
      "cell_type": "markdown",
      "metadata": {
        "id": "cO2dqJV95GoY",
        "colab_type": "text"
      },
      "source": [
        "# graph & subgraph"
      ]
    },
    {
      "cell_type": "code",
      "metadata": {
        "id": "mgd82L21yk72",
        "colab_type": "code",
        "colab": {}
      },
      "source": [
        "graph = pd.read_csv('/content/drive/My Drive/Social Networks/part_2/trust.txt',\n",
        "                    names=['user_1', 'user_2'],\n",
        "                    delim_whitespace=True)\n",
        "\n",
        "graph = graph.astype({'user_1': 'int32', 'user_2': 'int32'})"
      ],
      "execution_count": 2,
      "outputs": []
    },
    {
      "cell_type": "markdown",
      "metadata": {
        "id": "ZZGpH6fH4_lH",
        "colab_type": "text"
      },
      "source": [
        "number of users"
      ]
    },
    {
      "cell_type": "code",
      "metadata": {
        "id": "OXYU3s_h85Nm",
        "colab_type": "code",
        "colab": {
          "base_uri": "https://localhost:8080/",
          "height": 235
        },
        "outputId": "0b3a3d3f-701a-4903-98f3-15783b54e123"
      },
      "source": [
        "users_df = pd.DataFrame()\n",
        "users_df['user2_list'] = graph.groupby('user_1', sort=False).user_2.apply(list)\n",
        "users_df['user2_nb'] = users_df.user2_list.apply(len)\n",
        "users_df.head()"
      ],
      "execution_count": 3,
      "outputs": [
        {
          "output_type": "execute_result",
          "data": {
            "text/html": [
              "<div>\n",
              "<style scoped>\n",
              "    .dataframe tbody tr th:only-of-type {\n",
              "        vertical-align: middle;\n",
              "    }\n",
              "\n",
              "    .dataframe tbody tr th {\n",
              "        vertical-align: top;\n",
              "    }\n",
              "\n",
              "    .dataframe thead th {\n",
              "        text-align: right;\n",
              "    }\n",
              "</style>\n",
              "<table border=\"1\" class=\"dataframe\">\n",
              "  <thead>\n",
              "    <tr style=\"text-align: right;\">\n",
              "      <th></th>\n",
              "      <th>user2_list</th>\n",
              "      <th>user2_nb</th>\n",
              "    </tr>\n",
              "    <tr>\n",
              "      <th>user_1</th>\n",
              "      <th></th>\n",
              "      <th></th>\n",
              "    </tr>\n",
              "  </thead>\n",
              "  <tbody>\n",
              "    <tr>\n",
              "      <th>9831</th>\n",
              "      <td>[19832, 4247, 7375, 15698, 8604, 6823, 4076, 2...</td>\n",
              "      <td>293</td>\n",
              "    </tr>\n",
              "    <tr>\n",
              "      <th>5369</th>\n",
              "      <td>[5493, 12037, 15442, 796, 9222, 9140, 19885, 1...</td>\n",
              "      <td>158</td>\n",
              "    </tr>\n",
              "    <tr>\n",
              "      <th>6876</th>\n",
              "      <td>[9597, 12038, 4874, 20830, 3688, 11561, 8587, ...</td>\n",
              "      <td>113</td>\n",
              "    </tr>\n",
              "    <tr>\n",
              "      <th>2760</th>\n",
              "      <td>[6867, 9738, 21552, 14526, 5323, 9140, 2318, 1...</td>\n",
              "      <td>330</td>\n",
              "    </tr>\n",
              "    <tr>\n",
              "      <th>20240</th>\n",
              "      <td>[4076, 7307, 3635, 798, 19950, 333, 3167, 8406...</td>\n",
              "      <td>300</td>\n",
              "    </tr>\n",
              "  </tbody>\n",
              "</table>\n",
              "</div>"
            ],
            "text/plain": [
              "                                               user2_list  user2_nb\n",
              "user_1                                                             \n",
              "9831    [19832, 4247, 7375, 15698, 8604, 6823, 4076, 2...       293\n",
              "5369    [5493, 12037, 15442, 796, 9222, 9140, 19885, 1...       158\n",
              "6876    [9597, 12038, 4874, 20830, 3688, 11561, 8587, ...       113\n",
              "2760    [6867, 9738, 21552, 14526, 5323, 9140, 2318, 1...       330\n",
              "20240   [4076, 7307, 3635, 798, 19950, 333, 3167, 8406...       300"
            ]
          },
          "metadata": {
            "tags": []
          },
          "execution_count": 3
        }
      ]
    },
    {
      "cell_type": "markdown",
      "metadata": {
        "id": "iNQIjf8MICmv",
        "colab_type": "text"
      },
      "source": [
        "select N users"
      ]
    },
    {
      "cell_type": "code",
      "metadata": {
        "id": "vZ8CsSoRJUnW",
        "colab_type": "code",
        "colab": {
          "base_uri": "https://localhost:8080/",
          "height": 282
        },
        "outputId": "d9bf88ff-12bd-405a-82d4-c3d487064310"
      },
      "source": [
        "N = 1000\n",
        "idx = np.random.choice(users_df.shape[0], N, replace=False)\n",
        "subgraph_nodes = users_df.index.values[idx].tolist()\n",
        "users_df.loc[subgraph_nodes].user2_nb.hist()"
      ],
      "execution_count": null,
      "outputs": [
        {
          "output_type": "execute_result",
          "data": {
            "text/plain": [
              "<matplotlib.axes._subplots.AxesSubplot at 0x7f011ec429b0>"
            ]
          },
          "metadata": {
            "tags": []
          },
          "execution_count": 5
        },
        {
          "output_type": "display_data",
          "data": {
            "image/png": "[encoded data removed]",
            "text/plain": [
              "<Figure size 432x288 with 1 Axes>"
            ]
          },
          "metadata": {
            "tags": [],
            "needs_background": "light"
          }
        }
      ]
    },
    {
      "cell_type": "code",
      "metadata": {
        "id": "UlE2EJR4Hkbb",
        "colab_type": "code",
        "colab": {
          "base_uri": "https://localhost:8080/",
          "height": 282
        },
        "outputId": "49089145-6227-471e-ff30-bfd46066fd1f"
      },
      "source": [
        "N = 1000\n",
        "subgraph_nodes = users_df.index.tolist()[:N]\n",
        "users_df.loc[subgraph_nodes].user2_nb.hist()"
      ],
      "execution_count": 4,
      "outputs": [
        {
          "output_type": "execute_result",
          "data": {
            "text/plain": [
              "<matplotlib.axes._subplots.AxesSubplot at 0x7f6ce8cda160>"
            ]
          },
          "metadata": {
            "tags": []
          },
          "execution_count": 4
        },
        {
          "output_type": "display_data",
          "data": {
            "image/png": "[encoded data removed]",
            "text/plain": [
              "<Figure size 432x288 with 1 Axes>"
            ]
          },
          "metadata": {
            "tags": [],
            "needs_background": "light"
          }
        }
      ]
    },
    {
      "cell_type": "markdown",
      "metadata": {
        "id": "TM72_RcXVLQP",
        "colab_type": "text"
      },
      "source": [
        "**sub graph of N users**"
      ]
    },
    {
      "cell_type": "code",
      "metadata": {
        "id": "VPNsWUCTUo4z",
        "colab_type": "code",
        "colab": {}
      },
      "source": [
        "#subgraph = graph[graph.user_1.isin(subgraph_nodes)]\n",
        "\n",
        "subgraph = graph[graph.isin(\n",
        "    {'user_1': subgraph_nodes, 'user_2': subgraph_nodes})\\\n",
        "    .all(axis='columns')]"
      ],
      "execution_count": 5,
      "outputs": []
    },
    {
      "cell_type": "code",
      "metadata": {
        "id": "9vIuyQEp7muD",
        "colab_type": "code",
        "colab": {
          "base_uri": "https://localhost:8080/",
          "height": 51
        },
        "outputId": "9e4c8017-1302-4afa-c2b5-c60c97aaf35a"
      },
      "source": [
        "print(subgraph.shape)\n",
        "print(len(subgraph.user_1.unique()))"
      ],
      "execution_count": 6,
      "outputs": [
        {
          "output_type": "stream",
          "text": [
            "(63192, 2)\n",
            "979\n"
          ],
          "name": "stdout"
        }
      ]
    },
    {
      "cell_type": "markdown",
      "metadata": {
        "id": "BVgFVmOXIGEG",
        "colab_type": "text"
      },
      "source": [
        "# ratings"
      ]
    },
    {
      "cell_type": "code",
      "metadata": {
        "id": "IoIY195CIJcR",
        "colab_type": "code",
        "colab": {
          "base_uri": "https://localhost:8080/",
          "height": 221
        },
        "outputId": "df4932f3-54eb-49be-9814-85b9dc5bfa6a"
      },
      "source": [
        "rating_with_timestamp = pd.read_csv('/content/drive/My Drive/Social Networks/'\n",
        "                                    'part_2/rating_with_timestamp.txt',\n",
        "                                    names=['user_id', \n",
        "                                           'product_id', \n",
        "                                           'category_id', \n",
        "                                           'rating',\n",
        "                                           'helpfulness',\n",
        "                                           'time_stamp'],\n",
        "                                    delim_whitespace=True)\n",
        "\n",
        "rating_df = pd.DataFrame()\n",
        "rating_df = rating_with_timestamp[['user_id', 'category_id', 'rating']]\n",
        "rating_df = rating_df.astype({'user_id': 'int32',\n",
        "                              'category_id': 'int32',\n",
        "                              'rating': 'int32'})\n",
        "\n",
        "print(rating_df.shape)\n",
        "rating_df.head()"
      ],
      "execution_count": 7,
      "outputs": [
        {
          "output_type": "stream",
          "text": [
            "(922267, 3)\n"
          ],
          "name": "stdout"
        },
        {
          "output_type": "execute_result",
          "data": {
            "text/html": [
              "<div>\n",
              "<style scoped>\n",
              "    .dataframe tbody tr th:only-of-type {\n",
              "        vertical-align: middle;\n",
              "    }\n",
              "\n",
              "    .dataframe tbody tr th {\n",
              "        vertical-align: top;\n",
              "    }\n",
              "\n",
              "    .dataframe thead th {\n",
              "        text-align: right;\n",
              "    }\n",
              "</style>\n",
              "<table border=\"1\" class=\"dataframe\">\n",
              "  <thead>\n",
              "    <tr style=\"text-align: right;\">\n",
              "      <th></th>\n",
              "      <th>user_id</th>\n",
              "      <th>category_id</th>\n",
              "      <th>rating</th>\n",
              "    </tr>\n",
              "  </thead>\n",
              "  <tbody>\n",
              "    <tr>\n",
              "      <th>0</th>\n",
              "      <td>1</td>\n",
              "      <td>3</td>\n",
              "      <td>2</td>\n",
              "    </tr>\n",
              "    <tr>\n",
              "      <th>1</th>\n",
              "      <td>1</td>\n",
              "      <td>2</td>\n",
              "      <td>2</td>\n",
              "    </tr>\n",
              "    <tr>\n",
              "      <th>2</th>\n",
              "      <td>1</td>\n",
              "      <td>3</td>\n",
              "      <td>2</td>\n",
              "    </tr>\n",
              "    <tr>\n",
              "      <th>3</th>\n",
              "      <td>1</td>\n",
              "      <td>3</td>\n",
              "      <td>5</td>\n",
              "    </tr>\n",
              "    <tr>\n",
              "      <th>4</th>\n",
              "      <td>1</td>\n",
              "      <td>3</td>\n",
              "      <td>3</td>\n",
              "    </tr>\n",
              "  </tbody>\n",
              "</table>\n",
              "</div>"
            ],
            "text/plain": [
              "   user_id  category_id  rating\n",
              "0        1            3       2\n",
              "1        1            2       2\n",
              "2        1            3       2\n",
              "3        1            3       5\n",
              "4        1            3       3"
            ]
          },
          "metadata": {
            "tags": []
          },
          "execution_count": 7
        }
      ]
    },
    {
      "cell_type": "markdown",
      "metadata": {
        "id": "dhJ7PTNSj2Vq",
        "colab_type": "text"
      },
      "source": [
        "# subset of categories"
      ]
    },
    {
      "cell_type": "code",
      "metadata": {
        "id": "1FC0NVsMjy6A",
        "colab_type": "code",
        "colab": {
          "base_uri": "https://localhost:8080/",
          "height": 51
        },
        "outputId": "b05cf8fe-3c14-4187-8a4b-4eb2876f8d70"
      },
      "source": [
        "categories_subset = rating_df.category_id.value_counts().index.tolist()[:5]\n",
        "print(categories_subset)\n",
        "rating_df = rating_df[rating_df.category_id.isin(categories_subset)]\n",
        "print(rating_df.shape)"
      ],
      "execution_count": 8,
      "outputs": [
        {
          "output_type": "stream",
          "text": [
            "[3, 4, 5, 19, 10]\n",
            "(502255, 3)\n"
          ],
          "name": "stdout"
        }
      ]
    },
    {
      "cell_type": "markdown",
      "metadata": {
        "id": "xou3tnQdd5wN",
        "colab_type": "text"
      },
      "source": [
        "mean rating for every user and category"
      ]
    },
    {
      "cell_type": "code",
      "metadata": {
        "id": "x-JsQxUYSMgp",
        "colab_type": "code",
        "colab": {
          "base_uri": "https://localhost:8080/",
          "height": 252
        },
        "outputId": "8dc742b5-ef1b-4e68-d92c-2240aeaa3db5"
      },
      "source": [
        "user_categoty_group_rating = \\\n",
        "  rating_df.groupby(['user_id', 'category_id']).mean()\n",
        "user_categoty_group_rating['rating'] = \\\n",
        "  user_categoty_group_rating.rating.apply(lambda v: round(v, 3))\n",
        "\n",
        "\n",
        "\n",
        "\n",
        "\n",
        "# get the values of the first level index (category_id)\n",
        "category_ids = user_categoty_group_rating.index.get_level_values('category_id')\n",
        "\n",
        "# set index just to user_id\n",
        "user_categoty_group_rating.index = \\\n",
        "  user_categoty_group_rating.index.get_level_values(0)\n",
        "\n",
        "# put the values of the index into a cilumn\n",
        "user_categoty_group_rating['category_id'] = category_ids\n",
        "\n",
        "# re-oreder coumn values\n",
        "user_categoty_group_rating = user_categoty_group_rating[['category_id', \n",
        "                                                         'rating']]\n",
        "\n",
        "\n",
        "\n",
        "\n",
        "user_ratings = pd.DataFrame()\n",
        "user_ratings['ratings'] = \\\n",
        "  user_categoty_group_rating\\\n",
        "  .groupby('user_id')\\\n",
        "  .apply(lambda r: dict(zip(r['category_id'], r['rating'])))\n",
        "\n",
        "print(user_ratings.shape)\n",
        "user_ratings.head()"
      ],
      "execution_count": 9,
      "outputs": [
        {
          "output_type": "stream",
          "text": [
            "(20257, 1)\n"
          ],
          "name": "stdout"
        },
        {
          "output_type": "execute_result",
          "data": {
            "text/html": [
              "<div>\n",
              "<style scoped>\n",
              "    .dataframe tbody tr th:only-of-type {\n",
              "        vertical-align: middle;\n",
              "    }\n",
              "\n",
              "    .dataframe tbody tr th {\n",
              "        vertical-align: top;\n",
              "    }\n",
              "\n",
              "    .dataframe thead th {\n",
              "        text-align: right;\n",
              "    }\n",
              "</style>\n",
              "<table border=\"1\" class=\"dataframe\">\n",
              "  <thead>\n",
              "    <tr style=\"text-align: right;\">\n",
              "      <th></th>\n",
              "      <th>ratings</th>\n",
              "    </tr>\n",
              "    <tr>\n",
              "      <th>user_id</th>\n",
              "      <th></th>\n",
              "    </tr>\n",
              "  </thead>\n",
              "  <tbody>\n",
              "    <tr>\n",
              "      <th>1</th>\n",
              "      <td>{3: 2.75}</td>\n",
              "    </tr>\n",
              "    <tr>\n",
              "      <th>2</th>\n",
              "      <td>{3: 3.286, 4: 2.5, 5: 4.5, 10: 4.0}</td>\n",
              "    </tr>\n",
              "    <tr>\n",
              "      <th>3</th>\n",
              "      <td>{10: 5.0}</td>\n",
              "    </tr>\n",
              "    <tr>\n",
              "      <th>4</th>\n",
              "      <td>{3: 4.0, 4: 3.0, 5: 4.111, 10: 3.5}</td>\n",
              "    </tr>\n",
              "    <tr>\n",
              "      <th>5</th>\n",
              "      <td>{4: 4.5, 19: 4.0}</td>\n",
              "    </tr>\n",
              "  </tbody>\n",
              "</table>\n",
              "</div>"
            ],
            "text/plain": [
              "                                     ratings\n",
              "user_id                                     \n",
              "1                                  {3: 2.75}\n",
              "2        {3: 3.286, 4: 2.5, 5: 4.5, 10: 4.0}\n",
              "3                                  {10: 5.0}\n",
              "4        {3: 4.0, 4: 3.0, 5: 4.111, 10: 3.5}\n",
              "5                          {4: 4.5, 19: 4.0}"
            ]
          },
          "metadata": {
            "tags": []
          },
          "execution_count": 9
        }
      ]
    },
    {
      "cell_type": "markdown",
      "metadata": {
        "id": "LutyEfJWrnXf",
        "colab_type": "text"
      },
      "source": [
        "# influence probabilities"
      ]
    },
    {
      "cell_type": "markdown",
      "metadata": {
        "id": "-83KjAQKrqdZ",
        "colab_type": "text"
      },
      "source": [
        "take out users that have no ratings\n"
      ]
    },
    {
      "cell_type": "code",
      "metadata": {
        "id": "YuIaSw9SoLnZ",
        "colab_type": "code",
        "colab": {
          "base_uri": "https://localhost:8080/",
          "height": 51
        },
        "outputId": "32ebd2ea-e9ba-4843-ed0d-32f22d3286fb"
      },
      "source": [
        "print(subgraph.shape)\n",
        "users_ratings_list = rating_df.user_id.unique().tolist()\n",
        "\n",
        "subgraph = subgraph[subgraph.isin(\n",
        "    {'user_1': users_ratings_list, 'user_2': users_ratings_list})\\\n",
        "    .all(axis='columns')]\n",
        "\n",
        "print(subgraph.shape)"
      ],
      "execution_count": 10,
      "outputs": [
        {
          "output_type": "stream",
          "text": [
            "(63192, 2)\n",
            "(55336, 2)\n"
          ],
          "name": "stdout"
        }
      ]
    },
    {
      "cell_type": "code",
      "metadata": {
        "id": "VlSg-VOkR0n2",
        "colab_type": "code",
        "colab": {}
      },
      "source": [
        "def influence_probs(user_1, user_2):\n",
        "\n",
        "  infl_dict = dict()\n",
        "\n",
        "  # get ratings\n",
        "  ratings_user1 = user_ratings.loc[user_1].iloc[0]\n",
        "  ratings_user2 = user_ratings.loc[user_2].iloc[0]\n",
        "\n",
        "  # get categories that have rated\n",
        "  user1_categories = set(ratings_user1.keys())\n",
        "  user2_categories = set(ratings_user2.keys())\n",
        "\n",
        "  common_categories = user1_categories.intersection(user2_categories)\n",
        "\n",
        "  # if there are no common categories then there is no influence\n",
        "  if len(common_categories) == 0:\n",
        "    return infl_dict\n",
        "\n",
        "  # avoid division by zero\n",
        "  eps = 1e-06\n",
        "\n",
        "  # denominator\n",
        "  denom = 0\n",
        "  for cc in common_categories:\n",
        "    user1_rating = ratings_user1[cc]\n",
        "    user2_rating = ratings_user2[cc]\n",
        "    cat_diff = abs(user1_rating - user2_rating)\n",
        "    if cat_diff == 0:\n",
        "      denom += 1.0 / eps\n",
        "    else:\n",
        "      denom += 1.0 / cat_diff\n",
        "\n",
        "  # categories of both user_1 and user_2\n",
        "  categories = user1_categories.union(user2_categories)\n",
        "  # compute influence probability for every category\n",
        "  for c in categories:\n",
        "    if c in user1_categories:\n",
        "      usr1_rating = ratings_user1[c]\n",
        "    else:\n",
        "      usr1_rating = 0\n",
        "    if c in user2_categories:\n",
        "      usr2_rating = ratings_user2[c]\n",
        "    else:\n",
        "      usr2_rating = 0\n",
        "    numer = abs(usr1_rating - usr2_rating)\n",
        "    numer += eps\n",
        "    numer = 1.0 / numer\n",
        "    res = round(numer / denom, 3)\n",
        "    infl_dict[c] = res\n",
        "\n",
        "  return infl_dict"
      ],
      "execution_count": 11,
      "outputs": []
    },
    {
      "cell_type": "code",
      "metadata": {
        "id": "oseo1ba8iOhp",
        "colab_type": "code",
        "colab": {
          "base_uri": "https://localhost:8080/",
          "height": 204
        },
        "outputId": "71b1f27c-d93e-4278-a5b0-41eed7bc38e7"
      },
      "source": [
        "subgraph['influence_probabilities'] =\\\n",
        "    subgraph.apply(lambda r: influence_probs(r.user_1, r.user_2), axis=1)\n",
        "\n",
        "subgraph.head()"
      ],
      "execution_count": 12,
      "outputs": [
        {
          "output_type": "execute_result",
          "data": {
            "text/html": [
              "<div>\n",
              "<style scoped>\n",
              "    .dataframe tbody tr th:only-of-type {\n",
              "        vertical-align: middle;\n",
              "    }\n",
              "\n",
              "    .dataframe tbody tr th {\n",
              "        vertical-align: top;\n",
              "    }\n",
              "\n",
              "    .dataframe thead th {\n",
              "        text-align: right;\n",
              "    }\n",
              "</style>\n",
              "<table border=\"1\" class=\"dataframe\">\n",
              "  <thead>\n",
              "    <tr style=\"text-align: right;\">\n",
              "      <th></th>\n",
              "      <th>user_1</th>\n",
              "      <th>user_2</th>\n",
              "      <th>influence_probabilities</th>\n",
              "    </tr>\n",
              "  </thead>\n",
              "  <tbody>\n",
              "    <tr>\n",
              "      <th>0</th>\n",
              "      <td>9831</td>\n",
              "      <td>19832</td>\n",
              "      <td>{}</td>\n",
              "    </tr>\n",
              "    <tr>\n",
              "      <th>3</th>\n",
              "      <td>9831</td>\n",
              "      <td>15698</td>\n",
              "      <td>{19: 0.2, 4: 1.0, 3: 1.0, 10: 0.333}</td>\n",
              "    </tr>\n",
              "    <tr>\n",
              "      <th>6</th>\n",
              "      <td>9831</td>\n",
              "      <td>4076</td>\n",
              "      <td>{19: 0.033, 4: 0.905, 3: 0.048, 5: 0.034, 10: ...</td>\n",
              "    </tr>\n",
              "    <tr>\n",
              "      <th>7</th>\n",
              "      <td>9831</td>\n",
              "      <td>2116</td>\n",
              "      <td>{3: 0.08, 4: 0.171, 5: 0.063, 10: 0.672, 19: 0...</td>\n",
              "    </tr>\n",
              "    <tr>\n",
              "      <th>8</th>\n",
              "      <td>9831</td>\n",
              "      <td>17255</td>\n",
              "      <td>{19: 0.0, 4: 1.0, 3: 0.0, 5: 0.0, 10: 0.0}</td>\n",
              "    </tr>\n",
              "  </tbody>\n",
              "</table>\n",
              "</div>"
            ],
            "text/plain": [
              "   user_1  user_2                            influence_probabilities\n",
              "0    9831   19832                                                 {}\n",
              "3    9831   15698               {19: 0.2, 4: 1.0, 3: 1.0, 10: 0.333}\n",
              "6    9831    4076  {19: 0.033, 4: 0.905, 3: 0.048, 5: 0.034, 10: ...\n",
              "7    9831    2116  {3: 0.08, 4: 0.171, 5: 0.063, 10: 0.672, 19: 0...\n",
              "8    9831   17255         {19: 0.0, 4: 1.0, 3: 0.0, 5: 0.0, 10: 0.0}"
            ]
          },
          "metadata": {
            "tags": []
          },
          "execution_count": 12
        }
      ]
    },
    {
      "cell_type": "markdown",
      "metadata": {
        "id": "SleCZM5FtpfV",
        "colab_type": "text"
      },
      "source": [
        "# reliable set for a category"
      ]
    },
    {
      "cell_type": "markdown",
      "metadata": {
        "id": "JUWEg6ifxcHc",
        "colab_type": "text"
      },
      "source": [
        "## create T probabilistic graphs"
      ]
    },
    {
      "cell_type": "code",
      "metadata": {
        "id": "JS1ZNzA93JYb",
        "colab_type": "code",
        "colab": {}
      },
      "source": [
        "def keep_edge(influence_probabilities, category):\n",
        "  rnd_nb = random.uniform(0, 1)\n",
        "  if influence_probabilities[category] >= rnd_nb:\n",
        "    return True\n",
        "  else:\n",
        "    return False"
      ],
      "execution_count": 13,
      "outputs": []
    },
    {
      "cell_type": "markdown",
      "metadata": {
        "id": "vNQvMhsP9b2y",
        "colab_type": "text"
      },
      "source": [
        "## reliable set for each node"
      ]
    },
    {
      "cell_type": "code",
      "metadata": {
        "id": "QyvYNmolFj-t",
        "colab_type": "code",
        "colab": {}
      },
      "source": [
        "def user_reliable_set(user):\n",
        "\n",
        "  # count how many nodes does this node reach\n",
        "  nodes_reached_dict = dict()\n",
        "\n",
        "  # for every probabilistic graph\n",
        "  for idx in range(len(probabilistic_graphs)):\n",
        "\n",
        "    probabilistic_graph = probabilistic_graphs[idx]\n",
        "\n",
        "    nodes_reached = list(nx.dfs_preorder_nodes(probabilistic_graph,source=user))\n",
        "\n",
        "    for nd in nodes_reached:\n",
        "      if nd in nodes_reached_dict:\n",
        "        nodes_reached_dict[nd] += 1\n",
        "      else:\n",
        "        nodes_reached_dict[nd] = 1\n",
        "\n",
        "  temp_dict = {k:v for k, v in nodes_reached_dict.items() if v >= majority}\n",
        "  nodes_reached_dict = temp_dict\n",
        "\n",
        "  return nodes_reached_dict"
      ],
      "execution_count": 14,
      "outputs": []
    },
    {
      "cell_type": "markdown",
      "metadata": {
        "id": "2UEv7MW7WEKz",
        "colab_type": "text"
      },
      "source": [
        "## reliable sets for"
      ]
    },
    {
      "cell_type": "code",
      "metadata": {
        "id": "qM4kBjq9WIBX",
        "colab_type": "code",
        "colab": {
          "base_uri": "https://localhost:8080/",
          "height": 102
        },
        "outputId": "dd62fb46-4342-4efc-a222-368d607a86da"
      },
      "source": [
        "nb_probabilistic_graphs = 10\n",
        "majority = math.ceil(nb_probabilistic_graphs / 2)\n",
        "\n",
        "reliable_sets_category = pd.DataFrame()\n",
        "reliable_sets_category['user'] = subgraph.user_1.unique()\n",
        "nodes_list = reliable_sets_category.user.values.tolist()\n",
        "\n",
        "for category in categories_subset:  \n",
        "\n",
        "  probabilistic_graphs_list = list()\n",
        "\n",
        "  for idx in range(nb_probabilistic_graphs):\n",
        "\n",
        "    subgraph_category = subgraph[subgraph\\\n",
        "                                .influence_probabilities\\\n",
        "                                .apply(lambda v: category in v.keys())]\n",
        "\n",
        "    subgraph_category['keep_edge'] = subgraph_category.apply(\n",
        "        lambda r: keep_edge(r.influence_probabilities, category), axis=1)\n",
        "    \n",
        "    subgraph_category = subgraph_category[subgraph_category.keep_edge]\n",
        "\n",
        "    probabilistic_graphs_list.append(subgraph_category)\n",
        "\n",
        "\n",
        "  probabilistic_graphs = list()\n",
        "\n",
        "  for pg in probabilistic_graphs_list:\n",
        "\n",
        "    p_graph = nx.DiGraph()\n",
        "    p_graph.add_nodes_from(nodes_list)\n",
        "    p_graph.add_edges_from(list(zip(pg['user_1'], pg['user_2'])))\n",
        "\n",
        "    probabilistic_graphs.append(p_graph)\n",
        "\n",
        "  reliable_sets_category['reliable_set_c_{}'.format(category)] = \\\n",
        "      reliable_sets_category.user.apply(user_reliable_set)"
      ],
      "execution_count": 15,
      "outputs": [
        {
          "output_type": "stream",
          "text": [
            "/usr/local/lib/python3.6/dist-packages/ipykernel_launcher.py:17: SettingWithCopyWarning: \n",
            "A value is trying to be set on a copy of a slice from a DataFrame.\n",
            "Try using .loc[row_indexer,col_indexer] = value instead\n",
            "\n",
            "See the caveats in the documentation: https://pandas.pydata.org/pandas-docs/stable/user_guide/indexing.html#returning-a-view-versus-a-copy\n"
          ],
          "name": "stderr"
        }
      ]
    },
    {
      "cell_type": "code",
      "metadata": {
        "id": "NoPEHfeJYwU6",
        "colab_type": "code",
        "colab": {
          "base_uri": "https://localhost:8080/",
          "height": 289
        },
        "outputId": "d942f0ce-6d4f-4b02-8484-d3a726e309a0"
      },
      "source": [
        "reliable_sets_category.head()"
      ],
      "execution_count": 16,
      "outputs": [
        {
          "output_type": "execute_result",
          "data": {
            "text/html": [
              "<div>\n",
              "<style scoped>\n",
              "    .dataframe tbody tr th:only-of-type {\n",
              "        vertical-align: middle;\n",
              "    }\n",
              "\n",
              "    .dataframe tbody tr th {\n",
              "        vertical-align: top;\n",
              "    }\n",
              "\n",
              "    .dataframe thead th {\n",
              "        text-align: right;\n",
              "    }\n",
              "</style>\n",
              "<table border=\"1\" class=\"dataframe\">\n",
              "  <thead>\n",
              "    <tr style=\"text-align: right;\">\n",
              "      <th></th>\n",
              "      <th>user</th>\n",
              "      <th>reliable_set_c_3</th>\n",
              "      <th>reliable_set_c_4</th>\n",
              "      <th>reliable_set_c_5</th>\n",
              "      <th>reliable_set_c_19</th>\n",
              "      <th>reliable_set_c_10</th>\n",
              "    </tr>\n",
              "  </thead>\n",
              "  <tbody>\n",
              "    <tr>\n",
              "      <th>0</th>\n",
              "      <td>9831</td>\n",
              "      <td>{9831: 10, 15698: 10, 9597: 10, 1502: 10, 2130...</td>\n",
              "      <td>{9831: 10, 15698: 10, 9597: 10, 16780: 10, 667...</td>\n",
              "      <td>{9831: 10, 19950: 10, 7472: 10, 5627: 10, 1688...</td>\n",
              "      <td>{9831: 10, 3557: 10, 14311: 10, 9597: 10, 9370...</td>\n",
              "      <td>{9831: 10, 2116: 10, 16886: 10, 505: 10, 6675:...</td>\n",
              "    </tr>\n",
              "    <tr>\n",
              "      <th>1</th>\n",
              "      <td>5369</td>\n",
              "      <td>{5369: 10, 12037: 10, 14921: 10, 21094: 10, 74...</td>\n",
              "      <td>{5369: 10, 9222: 10, 19536: 10, 5627: 10, 2023...</td>\n",
              "      <td>{5369: 10, 5420: 9, 5550: 9, 12037: 9, 796: 9,...</td>\n",
              "      <td>{5369: 10, 19885: 10, 2023: 10, 7479: 10, 2318...</td>\n",
              "      <td>{5369: 10, 19896: 10, 13379: 10, 3957: 10, 937...</td>\n",
              "    </tr>\n",
              "    <tr>\n",
              "      <th>2</th>\n",
              "      <td>6876</td>\n",
              "      <td>{6876: 10, 11561: 10, 8006: 10, 14644: 10, 130...</td>\n",
              "      <td>{6876: 10, 9597: 10, 16780: 10, 6675: 10, 505:...</td>\n",
              "      <td>{6876: 10, 9597: 10, 5627: 10, 16886: 10, 1678...</td>\n",
              "      <td>{6876: 10, 19950: 10, 19896: 10, 5963: 10, 160...</td>\n",
              "      <td>{6876: 10, 15393: 10, 10465: 10, 1715: 10, 141...</td>\n",
              "    </tr>\n",
              "    <tr>\n",
              "      <th>3</th>\n",
              "      <td>2760</td>\n",
              "      <td>{2760: 10, 9140: 10, 7472: 10, 1715: 10, 4245:...</td>\n",
              "      <td>{2760: 10, 13657: 10, 1464: 10, 19482: 10, 937...</td>\n",
              "      <td>{2760: 10, 9140: 9, 2318: 10, 7535: 10, 6143: ...</td>\n",
              "      <td>{2760: 10, 9738: 10, 19482: 10, 1715: 10, 1415...</td>\n",
              "      <td>{2760: 10, 9140: 10, 2318: 10, 7535: 10, 2023:...</td>\n",
              "    </tr>\n",
              "    <tr>\n",
              "      <th>4</th>\n",
              "      <td>20240</td>\n",
              "      <td>{20240: 10, 1234: 10, 14860: 10, 18555: 10, 18...</td>\n",
              "      <td>{20240: 10, 4076: 10, 14286: 10, 9370: 10, 210...</td>\n",
              "      <td>{20240: 10, 1896: 10, 3957: 10, 13379: 10, 107...</td>\n",
              "      <td>{20240: 10, 1464: 10, 19482: 10, 1715: 10, 141...</td>\n",
              "      <td>{20240: 10, 7965: 10, 16330: 10, 7606: 10, 115...</td>\n",
              "    </tr>\n",
              "  </tbody>\n",
              "</table>\n",
              "</div>"
            ],
            "text/plain": [
              "    user  ...                                  reliable_set_c_10\n",
              "0   9831  ...  {9831: 10, 2116: 10, 16886: 10, 505: 10, 6675:...\n",
              "1   5369  ...  {5369: 10, 19896: 10, 13379: 10, 3957: 10, 937...\n",
              "2   6876  ...  {6876: 10, 15393: 10, 10465: 10, 1715: 10, 141...\n",
              "3   2760  ...  {2760: 10, 9140: 10, 2318: 10, 7535: 10, 2023:...\n",
              "4  20240  ...  {20240: 10, 7965: 10, 16330: 10, 7606: 10, 115...\n",
              "\n",
              "[5 rows x 6 columns]"
            ]
          },
          "metadata": {
            "tags": []
          },
          "execution_count": 16
        }
      ]
    },
    {
      "cell_type": "code",
      "metadata": {
        "id": "9ZM77om0g-jM",
        "colab_type": "code",
        "colab": {
          "base_uri": "https://localhost:8080/",
          "height": 751
        },
        "outputId": "c49a8734-0c5e-417f-e74e-24fe5288ba28"
      },
      "source": [
        "import matplotlib.pyplot as plt\n",
        "\n",
        "# fixing the size of the figure \n",
        "plt.figure(figsize =(10, 10))\n",
        "nx.draw(pg, with_labels=True)"
      ],
      "execution_count": null,
      "outputs": [
        {
          "output_type": "display_data",
          "data": {
            "image/png": "[encoded data removed]",
            "text/plain": [
              "<Figure size 720x720 with 1 Axes>"
            ]
          },
          "metadata": {
            "tags": []
          }
        }
      ]
    },
    {
      "cell_type": "markdown",
      "metadata": {
        "id": "kL_A_PRsVeu_",
        "colab_type": "text"
      },
      "source": [
        "# reliable sets overlaps"
      ]
    },
    {
      "cell_type": "code",
      "metadata": {
        "id": "rLCmAAj4oXVB",
        "colab_type": "code",
        "colab": {
          "base_uri": "https://localhost:8080/",
          "height": 221
        },
        "outputId": "106a6b50-10b3-4464-a048-cf3e4125d78f"
      },
      "source": [
        "users = np.sort(reliable_sets_category.user.values).tolist()\n",
        "\n",
        "users_combs = pd.Series(combinations(users, 2))\n",
        "\n",
        "overlaps_df = pd.DataFrame(data=users_combs, columns=['users_combinations'])\n",
        "\n",
        "print(overlaps_df.shape)\n",
        "overlaps_df.head()"
      ],
      "execution_count": 17,
      "outputs": [
        {
          "output_type": "stream",
          "text": [
            "(405450, 1)\n"
          ],
          "name": "stdout"
        },
        {
          "output_type": "execute_result",
          "data": {
            "text/html": [
              "<div>\n",
              "<style scoped>\n",
              "    .dataframe tbody tr th:only-of-type {\n",
              "        vertical-align: middle;\n",
              "    }\n",
              "\n",
              "    .dataframe tbody tr th {\n",
              "        vertical-align: top;\n",
              "    }\n",
              "\n",
              "    .dataframe thead th {\n",
              "        text-align: right;\n",
              "    }\n",
              "</style>\n",
              "<table border=\"1\" class=\"dataframe\">\n",
              "  <thead>\n",
              "    <tr style=\"text-align: right;\">\n",
              "      <th></th>\n",
              "      <th>users_combinations</th>\n",
              "    </tr>\n",
              "  </thead>\n",
              "  <tbody>\n",
              "    <tr>\n",
              "      <th>0</th>\n",
              "      <td>(29, 40)</td>\n",
              "    </tr>\n",
              "    <tr>\n",
              "      <th>1</th>\n",
              "      <td>(29, 53)</td>\n",
              "    </tr>\n",
              "    <tr>\n",
              "      <th>2</th>\n",
              "      <td>(29, 61)</td>\n",
              "    </tr>\n",
              "    <tr>\n",
              "      <th>3</th>\n",
              "      <td>(29, 62)</td>\n",
              "    </tr>\n",
              "    <tr>\n",
              "      <th>4</th>\n",
              "      <td>(29, 64)</td>\n",
              "    </tr>\n",
              "  </tbody>\n",
              "</table>\n",
              "</div>"
            ],
            "text/plain": [
              "  users_combinations\n",
              "0           (29, 40)\n",
              "1           (29, 53)\n",
              "2           (29, 61)\n",
              "3           (29, 62)\n",
              "4           (29, 64)"
            ]
          },
          "metadata": {
            "tags": []
          },
          "execution_count": 17
        }
      ]
    },
    {
      "cell_type": "code",
      "metadata": {
        "id": "ZqMjOR7GnIh9",
        "colab_type": "code",
        "colab": {}
      },
      "source": [
        "def pair_overlap(users_combinations):\n",
        "\n",
        "  user_1 = users_combinations[0]\n",
        "  user_2 = users_combinations[1]\n",
        "\n",
        "  rss_user1 = reliable_sets_category[reliable_sets_category.user==user_1]\n",
        "  rss_user2 = reliable_sets_category[reliable_sets_category.user==user_2]\n",
        "\n",
        "\n",
        "\n",
        "  user_1_categories = list()\n",
        "  for rv in rss_user1.items():\n",
        "    dct = rv[1].iloc[0]\n",
        "    user_1_categories.append(dct)\n",
        "  user_1_categories = user_1_categories[1:]\n",
        "\n",
        "  user_2_categories = list()\n",
        "  for rv in rss_user2.items():\n",
        "    dct = rv[1].iloc[0]\n",
        "    user_2_categories.append(dct)\n",
        "  user_2_categories = user_2_categories[1:]\n",
        "\n",
        "  categories_overlaps = dict()\n",
        "  idx = 1\n",
        "  for u1c in user_1_categories:\n",
        "    u1rs = set(u1c.keys())\n",
        "    for u2c in user_2_categories:\n",
        "      u2rs = set(u2c.keys())\n",
        "      ovl = u1rs.intersection(u2c)\n",
        "      categories_overlaps[idx] = len(ovl)\n",
        "      idx += 1\n",
        "\n",
        "  return categories_overlaps"
      ],
      "execution_count": 18,
      "outputs": []
    },
    {
      "cell_type": "code",
      "metadata": {
        "id": "JESJ5CNA2d9K",
        "colab_type": "code",
        "colab": {}
      },
      "source": [
        "overlaps_df['overlaps'] = overlaps_df.users_combinations.apply(pair_overlap)"
      ],
      "execution_count": 19,
      "outputs": []
    },
    {
      "cell_type": "code",
      "metadata": {
        "id": "r65oaPfD4HPp",
        "colab_type": "code",
        "colab": {
          "base_uri": "https://localhost:8080/",
          "height": 204
        },
        "outputId": "442071bc-f128-459d-8902-f7f2a5509b76"
      },
      "source": [
        "overlaps_df.head()"
      ],
      "execution_count": 20,
      "outputs": [
        {
          "output_type": "execute_result",
          "data": {
            "text/html": [
              "<div>\n",
              "<style scoped>\n",
              "    .dataframe tbody tr th:only-of-type {\n",
              "        vertical-align: middle;\n",
              "    }\n",
              "\n",
              "    .dataframe tbody tr th {\n",
              "        vertical-align: top;\n",
              "    }\n",
              "\n",
              "    .dataframe thead th {\n",
              "        text-align: right;\n",
              "    }\n",
              "</style>\n",
              "<table border=\"1\" class=\"dataframe\">\n",
              "  <thead>\n",
              "    <tr style=\"text-align: right;\">\n",
              "      <th></th>\n",
              "      <th>users_combinations</th>\n",
              "      <th>overlaps</th>\n",
              "    </tr>\n",
              "  </thead>\n",
              "  <tbody>\n",
              "    <tr>\n",
              "      <th>0</th>\n",
              "      <td>(29, 40)</td>\n",
              "      <td>{1: 761, 2: 711, 3: 683, 4: 662, 5: 713, 6: 70...</td>\n",
              "    </tr>\n",
              "    <tr>\n",
              "      <th>1</th>\n",
              "      <td>(29, 53)</td>\n",
              "      <td>{1: 761, 2: 711, 3: 683, 4: 674, 5: 663, 6: 70...</td>\n",
              "    </tr>\n",
              "    <tr>\n",
              "      <th>2</th>\n",
              "      <td>(29, 61)</td>\n",
              "      <td>{1: 761, 2: 711, 3: 683, 4: 674, 5: 713, 6: 70...</td>\n",
              "    </tr>\n",
              "    <tr>\n",
              "      <th>3</th>\n",
              "      <td>(29, 62)</td>\n",
              "      <td>{1: 761, 2: 711, 3: 648, 4: 674, 5: 713, 6: 70...</td>\n",
              "    </tr>\n",
              "    <tr>\n",
              "      <th>4</th>\n",
              "      <td>(29, 64)</td>\n",
              "      <td>{1: 761, 2: 711, 3: 683, 4: 674, 5: 713, 6: 70...</td>\n",
              "    </tr>\n",
              "  </tbody>\n",
              "</table>\n",
              "</div>"
            ],
            "text/plain": [
              "  users_combinations                                           overlaps\n",
              "0           (29, 40)  {1: 761, 2: 711, 3: 683, 4: 662, 5: 713, 6: 70...\n",
              "1           (29, 53)  {1: 761, 2: 711, 3: 683, 4: 674, 5: 663, 6: 70...\n",
              "2           (29, 61)  {1: 761, 2: 711, 3: 683, 4: 674, 5: 713, 6: 70...\n",
              "3           (29, 62)  {1: 761, 2: 711, 3: 648, 4: 674, 5: 713, 6: 70...\n",
              "4           (29, 64)  {1: 761, 2: 711, 3: 683, 4: 674, 5: 713, 6: 70..."
            ]
          },
          "metadata": {
            "tags": []
          },
          "execution_count": 20
        }
      ]
    },
    {
      "cell_type": "code",
      "metadata": {
        "id": "Az6_cSLcDctL",
        "colab_type": "code",
        "colab": {}
      },
      "source": [
        "# save DataFrame\n",
        "\n",
        "overlaps_df.to_pickle('/content/drive/My Drive/Social Networks/'\n",
        "'saved_DataFrames/overlaps.pkl')"
      ],
      "execution_count": null,
      "outputs": []
    },
    {
      "cell_type": "markdown",
      "metadata": {
        "id": "Gb_pJ0A7DDy9",
        "colab_type": "text"
      },
      "source": [
        "# F(n,u,v)"
      ]
    },
    {
      "cell_type": "code",
      "metadata": {
        "id": "Dbo51DSrDI4c",
        "colab_type": "code",
        "colab": {}
      },
      "source": [
        "# list with matrices for every category\n",
        "matrix_list = list()\n",
        "\n",
        "users = np.sort(reliable_sets_category.user.values).tolist()\n",
        "nb_users = len(users)\n",
        "\n",
        "for c in categories_subset:\n",
        "  c_r_u_v_a = np.zeros([nb_users, nb_users]).astype(int)\n",
        "  for idx, user_1 in enumerate(users):\n",
        "    # reliable set of user 1 for category c\n",
        "    rs = reliable_sets_category[reliable_sets_category.user==user_1]['reliable_set_c_{}'.format(c)].iloc[0]\n",
        "    rsl = list(rs.keys())\n",
        "    # if user 2 is in user 1 reliable set for this category then the\n",
        "    # corresponding array cell will be 1\n",
        "    for idx_in, user_2 in enumerate(users):\n",
        "      if user_2 in rsl:\n",
        "        c_r_u_v_a[idx, idx_in] = 1  \n",
        "  np.fill_diagonal(c_r_u_v_a, 0)\n",
        "  matrix_list.append(c_r_u_v_a)"
      ],
      "execution_count": 21,
      "outputs": []
    },
    {
      "cell_type": "code",
      "metadata": {
        "id": "hPu2nSLtSal5",
        "colab_type": "code",
        "colab": {
          "base_uri": "https://localhost:8080/",
          "height": 1000
        },
        "outputId": "a0404880-43c2-4e9a-9693-33143d0ad52e"
      },
      "source": [
        "np.sum(matrix_list[1],axis=1)"
      ],
      "execution_count": 22,
      "outputs": [
        {
          "output_type": "execute_result",
          "data": {
            "text/plain": [
              "array([716, 754, 754, 754, 754, 754, 754, 754, 754,   0,   0, 754, 754,\n",
              "       754, 754, 726, 754, 754,   0, 754, 754, 754, 754, 754, 754, 750,\n",
              "       754, 754, 754, 754, 754, 754, 754, 754, 754, 754,   0, 754, 754,\n",
              "       754, 754, 754,   0, 755, 754, 754, 754, 754,   0, 754, 754, 754,\n",
              "       754,   0, 754, 754, 754, 755, 754, 742, 754, 754, 754, 754, 754,\n",
              "       754, 754,   0, 754, 754,   0, 754, 754, 754, 754, 754, 754, 754,\n",
              "       754, 755, 754, 748, 754, 754, 754, 754, 754, 754, 754,   0, 754,\n",
              "       754, 754, 754, 754, 754, 754,   0, 754, 754, 754, 754, 754, 754,\n",
              "       754, 754, 754,   0,   0, 754, 754, 754, 754, 754, 754, 754, 751,\n",
              "       754, 754, 754, 754, 754, 754, 708,   0, 755, 754, 754, 754, 754,\n",
              "       754,   0, 754, 754, 714, 754, 754, 754,   0, 754,   0, 755, 754,\n",
              "       731, 754, 754, 754, 754, 754,   0, 754, 754, 754, 754, 754, 754,\n",
              "       754, 754, 754, 754, 754, 754, 754, 748, 754, 754, 754, 754, 754,\n",
              "       754, 748,   0, 754, 754, 754, 754, 754, 754, 754, 754, 754, 744,\n",
              "       742, 754, 754, 754, 754, 726,   0, 730, 754, 754, 754,   0, 670,\n",
              "         0, 754, 754, 754, 754, 754,   0, 754, 754, 754, 754, 754, 754,\n",
              "       739, 754, 754, 754, 754, 754, 754, 754, 754, 754, 754, 754, 754,\n",
              "       754, 755, 754, 754, 754, 754, 754,   0, 754, 754, 754,   0, 754,\n",
              "       750, 749, 754, 754, 754, 754, 754, 754, 754, 728,   0, 754, 742,\n",
              "       754,   0,   0, 754,   0, 754, 754, 743, 754, 754, 742, 754, 754,\n",
              "         0, 754, 755, 754,   0, 754, 754, 751, 754, 754, 754, 741, 754,\n",
              "       754, 754, 754, 754, 754,   0, 754, 754, 754, 749, 754,   0, 754,\n",
              "       749, 754, 677, 754, 754, 742, 754, 751, 754, 754, 754, 754,   0,\n",
              "       754, 754, 754,   0, 754, 754,   0, 754, 754, 754, 755, 754, 754,\n",
              "       748, 754, 754, 754, 754, 754, 754, 754, 751, 754,   0,   0,   0,\n",
              "       754, 754, 754, 754, 754, 750, 748, 754, 754, 754, 754, 754, 751,\n",
              "       754, 754, 755, 754, 754, 754, 754, 754, 749, 755, 754,   0, 754,\n",
              "       754, 754, 754, 754,   0, 749, 754, 754, 754, 754,   0, 754, 754,\n",
              "       680, 754,   0, 754, 754,   0, 754, 754,   1, 754, 754, 754, 749,\n",
              "         0, 754, 754, 754, 713,   0, 754, 754, 754, 685, 754, 754, 754,\n",
              "       754, 754,   0, 754, 754, 754,   0, 755, 754, 754,   0, 754, 715,\n",
              "       756, 754, 754, 754, 755, 754, 754,   0, 754, 754, 755, 754, 754,\n",
              "       727, 754, 747, 682, 754, 754, 754, 754, 754, 754, 754, 754, 755,\n",
              "       754, 754, 673, 754, 754, 754, 754, 754,   0, 754, 754, 754, 740,\n",
              "       754, 754, 754, 754, 754, 754, 754,   0, 754, 754, 754, 755, 754,\n",
              "       754, 754, 754, 754, 754, 754, 754, 754, 677, 754, 754, 754, 754,\n",
              "         0, 755, 754, 754, 754, 754, 754, 754, 682, 751, 754, 754, 754,\n",
              "       754, 678, 754, 754, 755, 754, 754, 734, 754, 751, 754, 754, 754,\n",
              "       754, 754, 754,   0, 754, 754, 743, 754, 754, 754, 743, 754, 754,\n",
              "       754, 754, 754, 724,   0, 754,   1, 754, 754, 754, 754, 754, 754,\n",
              "       754, 754, 754, 754, 754, 754, 754, 754, 754, 754, 755, 680, 754,\n",
              "       754, 754, 746, 755, 754, 754, 754, 754, 754, 754, 754, 754, 754,\n",
              "       754, 749, 754, 754, 754, 754, 748, 754, 754, 754, 754, 754,   0,\n",
              "       748, 754, 754, 754, 754, 754, 754, 754, 754, 754, 754, 748, 754,\n",
              "       754, 754, 754, 754, 754, 754, 754, 754, 754, 754, 754,   0, 754,\n",
              "       754, 754,   0, 754, 754, 711, 754, 755, 712, 754, 754, 754, 728,\n",
              "       754, 754, 754, 757, 755, 754, 739, 754, 754, 754, 754, 754, 706,\n",
              "       754, 754, 754, 754, 752, 754, 754,   0, 754, 755, 754,   0, 754,\n",
              "       754, 754,   0, 754, 754, 754, 754, 754, 754, 754, 747, 749, 754,\n",
              "       710, 754, 754, 754, 748, 754, 754, 754, 754, 748, 754, 754, 741,\n",
              "       727,   0, 738, 754, 754, 754, 754, 754, 712, 754, 739, 743,   0,\n",
              "       754, 754,   0, 754, 754, 754, 754,   0, 750, 705, 754, 754, 754,\n",
              "         0, 754, 754, 754, 754, 754, 754, 754, 754, 754, 755, 754, 754,\n",
              "       754, 754, 754, 754, 754, 754, 754, 754, 754, 754, 754, 754, 754,\n",
              "       754, 754, 754, 754, 754, 754,   0, 754, 754, 754, 748, 754, 754,\n",
              "       754,   0, 754, 754, 754, 741, 750, 754, 754, 754,   0, 754,   0,\n",
              "       754,   0,   0, 750, 754, 754, 677, 755, 678, 754,   0, 754, 751,\n",
              "       754, 754, 754, 754, 754,   0, 754, 754, 754, 754, 754, 754, 754,\n",
              "       754, 754, 754, 754, 754, 754, 748, 754, 754, 754, 754, 754, 754,\n",
              "       754, 754, 754, 712, 750, 754, 754, 754, 713,   0,   0, 715, 748,\n",
              "       754, 754, 754, 754, 754, 754, 754, 754, 754, 754, 754, 754, 754,\n",
              "       754, 755, 754, 754, 724, 754, 737, 754, 754, 754, 754, 754, 755,\n",
              "       754, 754, 754, 754, 713, 739, 754, 754, 751, 754, 754, 754, 754,\n",
              "       755, 754, 754, 746, 754, 754, 750, 754, 755, 754, 754, 743, 755,\n",
              "       754, 754,   0, 754, 754, 754, 755, 754, 754, 754, 754, 755, 754,\n",
              "       742, 754, 754, 703, 754, 754, 754, 748, 741, 754, 754, 754, 754,\n",
              "       754, 754, 754, 754, 756, 755, 754, 749, 754, 754, 754, 754,   0,\n",
              "       754, 754, 754, 754, 754, 754, 754, 726, 754, 754, 754, 754, 754,\n",
              "       754,   0, 748, 754, 754, 754, 754, 754, 754, 707, 754, 754, 754,\n",
              "       755, 754, 754, 754])"
            ]
          },
          "metadata": {
            "tags": []
          },
          "execution_count": 22
        }
      ]
    }
  ]
}